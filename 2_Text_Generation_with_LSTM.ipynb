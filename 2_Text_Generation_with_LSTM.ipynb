{
  "cells": [
    {
      "cell_type": "code",
      "execution_count": 2,
      "metadata": {
        "id": "V3wQRTEz54lE"
      },
      "outputs": [],
      "source": [
        "import os\n",
        "import sys\n",
        "from pathlib import Path\n",
        "\n",
        "import pandas as pd\n",
        "import numpy as np\n",
        "\n",
        "import warnings\n",
        "warnings.filterwarnings('ignore')\n",
        "\n",
        "import re\n",
        "from typing import *\n",
        "\n",
        "import nltk\n",
        "from nltk.corpus import stopwords\n",
        "from nltk.stem.porter import PorterStemmer\n",
        "from nltk.stem import WordNetLemmatizer"
      ]
    },
    {
      "cell_type": "markdown",
      "metadata": {
        "id": "1ScTjF8p54lH"
      },
      "source": [
        "### 1.Reading the data"
      ]
    },
    {
      "cell_type": "code",
      "execution_count": 3,
      "metadata": {
        "id": "a44ZQ_mO54lI"
      },
      "outputs": [],
      "source": [
        "# Define the lyrics of the song\n",
        "data_path = Path('data/got/game_of_thrones.txt')\n",
        "# Preview the result\n",
        "df = pd.read_csv(data_path, sep='\\t', names=['got_text'])"
      ]
    },
    {
      "cell_type": "code",
      "execution_count": 4,
      "metadata": {
        "id": "plCV6Rr754lJ",
        "outputId": "89a510cc-d9dd-46b1-ba13-b753ed202f3f",
        "colab": {
          "base_uri": "https://localhost:8080/",
          "height": 206
        }
      },
      "outputs": [
        {
          "output_type": "execute_result",
          "data": {
            "text/plain": [
              "                                            got_text\n",
              "0                             a song of ice and fire\n",
              "1                                  a game of thrones\n",
              "2                                           prologue\n",
              "3  we should start back, gared urged as the woods...\n",
              "4  do the dead frighten you? ser waymar royce ask..."
            ],
            "text/html": [
              "\n",
              "  <div id=\"df-aed3b25c-68e4-47e1-af75-2aba55ddafb3\" class=\"colab-df-container\">\n",
              "    <div>\n",
              "<style scoped>\n",
              "    .dataframe tbody tr th:only-of-type {\n",
              "        vertical-align: middle;\n",
              "    }\n",
              "\n",
              "    .dataframe tbody tr th {\n",
              "        vertical-align: top;\n",
              "    }\n",
              "\n",
              "    .dataframe thead th {\n",
              "        text-align: right;\n",
              "    }\n",
              "</style>\n",
              "<table border=\"1\" class=\"dataframe\">\n",
              "  <thead>\n",
              "    <tr style=\"text-align: right;\">\n",
              "      <th></th>\n",
              "      <th>got_text</th>\n",
              "    </tr>\n",
              "  </thead>\n",
              "  <tbody>\n",
              "    <tr>\n",
              "      <th>0</th>\n",
              "      <td>a song of ice and fire</td>\n",
              "    </tr>\n",
              "    <tr>\n",
              "      <th>1</th>\n",
              "      <td>a game of thrones</td>\n",
              "    </tr>\n",
              "    <tr>\n",
              "      <th>2</th>\n",
              "      <td>prologue</td>\n",
              "    </tr>\n",
              "    <tr>\n",
              "      <th>3</th>\n",
              "      <td>we should start back, gared urged as the woods...</td>\n",
              "    </tr>\n",
              "    <tr>\n",
              "      <th>4</th>\n",
              "      <td>do the dead frighten you? ser waymar royce ask...</td>\n",
              "    </tr>\n",
              "  </tbody>\n",
              "</table>\n",
              "</div>\n",
              "    <div class=\"colab-df-buttons\">\n",
              "\n",
              "  <div class=\"colab-df-container\">\n",
              "    <button class=\"colab-df-convert\" onclick=\"convertToInteractive('df-aed3b25c-68e4-47e1-af75-2aba55ddafb3')\"\n",
              "            title=\"Convert this dataframe to an interactive table.\"\n",
              "            style=\"display:none;\">\n",
              "\n",
              "  <svg xmlns=\"http://www.w3.org/2000/svg\" height=\"24px\" viewBox=\"0 -960 960 960\">\n",
              "    <path d=\"M120-120v-720h720v720H120Zm60-500h600v-160H180v160Zm220 220h160v-160H400v160Zm0 220h160v-160H400v160ZM180-400h160v-160H180v160Zm440 0h160v-160H620v160ZM180-180h160v-160H180v160Zm440 0h160v-160H620v160Z\"/>\n",
              "  </svg>\n",
              "    </button>\n",
              "\n",
              "  <style>\n",
              "    .colab-df-container {\n",
              "      display:flex;\n",
              "      gap: 12px;\n",
              "    }\n",
              "\n",
              "    .colab-df-convert {\n",
              "      background-color: #E8F0FE;\n",
              "      border: none;\n",
              "      border-radius: 50%;\n",
              "      cursor: pointer;\n",
              "      display: none;\n",
              "      fill: #1967D2;\n",
              "      height: 32px;\n",
              "      padding: 0 0 0 0;\n",
              "      width: 32px;\n",
              "    }\n",
              "\n",
              "    .colab-df-convert:hover {\n",
              "      background-color: #E2EBFA;\n",
              "      box-shadow: 0px 1px 2px rgba(60, 64, 67, 0.3), 0px 1px 3px 1px rgba(60, 64, 67, 0.15);\n",
              "      fill: #174EA6;\n",
              "    }\n",
              "\n",
              "    .colab-df-buttons div {\n",
              "      margin-bottom: 4px;\n",
              "    }\n",
              "\n",
              "    [theme=dark] .colab-df-convert {\n",
              "      background-color: #3B4455;\n",
              "      fill: #D2E3FC;\n",
              "    }\n",
              "\n",
              "    [theme=dark] .colab-df-convert:hover {\n",
              "      background-color: #434B5C;\n",
              "      box-shadow: 0px 1px 3px 1px rgba(0, 0, 0, 0.15);\n",
              "      filter: drop-shadow(0px 1px 2px rgba(0, 0, 0, 0.3));\n",
              "      fill: #FFFFFF;\n",
              "    }\n",
              "  </style>\n",
              "\n",
              "    <script>\n",
              "      const buttonEl =\n",
              "        document.querySelector('#df-aed3b25c-68e4-47e1-af75-2aba55ddafb3 button.colab-df-convert');\n",
              "      buttonEl.style.display =\n",
              "        google.colab.kernel.accessAllowed ? 'block' : 'none';\n",
              "\n",
              "      async function convertToInteractive(key) {\n",
              "        const element = document.querySelector('#df-aed3b25c-68e4-47e1-af75-2aba55ddafb3');\n",
              "        const dataTable =\n",
              "          await google.colab.kernel.invokeFunction('convertToInteractive',\n",
              "                                                    [key], {});\n",
              "        if (!dataTable) return;\n",
              "\n",
              "        const docLinkHtml = 'Like what you see? Visit the ' +\n",
              "          '<a target=\"_blank\" href=https://colab.research.google.com/notebooks/data_table.ipynb>data table notebook</a>'\n",
              "          + ' to learn more about interactive tables.';\n",
              "        element.innerHTML = '';\n",
              "        dataTable['output_type'] = 'display_data';\n",
              "        await google.colab.output.renderOutput(dataTable, element);\n",
              "        const docLink = document.createElement('div');\n",
              "        docLink.innerHTML = docLinkHtml;\n",
              "        element.appendChild(docLink);\n",
              "      }\n",
              "    </script>\n",
              "  </div>\n",
              "\n",
              "\n",
              "<div id=\"df-3e30b9c0-aa41-4282-a23d-9016209433dd\">\n",
              "  <button class=\"colab-df-quickchart\" onclick=\"quickchart('df-3e30b9c0-aa41-4282-a23d-9016209433dd')\"\n",
              "            title=\"Suggest charts\"\n",
              "            style=\"display:none;\">\n",
              "\n",
              "<svg xmlns=\"http://www.w3.org/2000/svg\" height=\"24px\"viewBox=\"0 0 24 24\"\n",
              "     width=\"24px\">\n",
              "    <g>\n",
              "        <path d=\"M19 3H5c-1.1 0-2 .9-2 2v14c0 1.1.9 2 2 2h14c1.1 0 2-.9 2-2V5c0-1.1-.9-2-2-2zM9 17H7v-7h2v7zm4 0h-2V7h2v10zm4 0h-2v-4h2v4z\"/>\n",
              "    </g>\n",
              "</svg>\n",
              "  </button>\n",
              "\n",
              "<style>\n",
              "  .colab-df-quickchart {\n",
              "      --bg-color: #E8F0FE;\n",
              "      --fill-color: #1967D2;\n",
              "      --hover-bg-color: #E2EBFA;\n",
              "      --hover-fill-color: #174EA6;\n",
              "      --disabled-fill-color: #AAA;\n",
              "      --disabled-bg-color: #DDD;\n",
              "  }\n",
              "\n",
              "  [theme=dark] .colab-df-quickchart {\n",
              "      --bg-color: #3B4455;\n",
              "      --fill-color: #D2E3FC;\n",
              "      --hover-bg-color: #434B5C;\n",
              "      --hover-fill-color: #FFFFFF;\n",
              "      --disabled-bg-color: #3B4455;\n",
              "      --disabled-fill-color: #666;\n",
              "  }\n",
              "\n",
              "  .colab-df-quickchart {\n",
              "    background-color: var(--bg-color);\n",
              "    border: none;\n",
              "    border-radius: 50%;\n",
              "    cursor: pointer;\n",
              "    display: none;\n",
              "    fill: var(--fill-color);\n",
              "    height: 32px;\n",
              "    padding: 0;\n",
              "    width: 32px;\n",
              "  }\n",
              "\n",
              "  .colab-df-quickchart:hover {\n",
              "    background-color: var(--hover-bg-color);\n",
              "    box-shadow: 0 1px 2px rgba(60, 64, 67, 0.3), 0 1px 3px 1px rgba(60, 64, 67, 0.15);\n",
              "    fill: var(--button-hover-fill-color);\n",
              "  }\n",
              "\n",
              "  .colab-df-quickchart-complete:disabled,\n",
              "  .colab-df-quickchart-complete:disabled:hover {\n",
              "    background-color: var(--disabled-bg-color);\n",
              "    fill: var(--disabled-fill-color);\n",
              "    box-shadow: none;\n",
              "  }\n",
              "\n",
              "  .colab-df-spinner {\n",
              "    border: 2px solid var(--fill-color);\n",
              "    border-color: transparent;\n",
              "    border-bottom-color: var(--fill-color);\n",
              "    animation:\n",
              "      spin 1s steps(1) infinite;\n",
              "  }\n",
              "\n",
              "  @keyframes spin {\n",
              "    0% {\n",
              "      border-color: transparent;\n",
              "      border-bottom-color: var(--fill-color);\n",
              "      border-left-color: var(--fill-color);\n",
              "    }\n",
              "    20% {\n",
              "      border-color: transparent;\n",
              "      border-left-color: var(--fill-color);\n",
              "      border-top-color: var(--fill-color);\n",
              "    }\n",
              "    30% {\n",
              "      border-color: transparent;\n",
              "      border-left-color: var(--fill-color);\n",
              "      border-top-color: var(--fill-color);\n",
              "      border-right-color: var(--fill-color);\n",
              "    }\n",
              "    40% {\n",
              "      border-color: transparent;\n",
              "      border-right-color: var(--fill-color);\n",
              "      border-top-color: var(--fill-color);\n",
              "    }\n",
              "    60% {\n",
              "      border-color: transparent;\n",
              "      border-right-color: var(--fill-color);\n",
              "    }\n",
              "    80% {\n",
              "      border-color: transparent;\n",
              "      border-right-color: var(--fill-color);\n",
              "      border-bottom-color: var(--fill-color);\n",
              "    }\n",
              "    90% {\n",
              "      border-color: transparent;\n",
              "      border-bottom-color: var(--fill-color);\n",
              "    }\n",
              "  }\n",
              "</style>\n",
              "\n",
              "  <script>\n",
              "    async function quickchart(key) {\n",
              "      const quickchartButtonEl =\n",
              "        document.querySelector('#' + key + ' button');\n",
              "      quickchartButtonEl.disabled = true;  // To prevent multiple clicks.\n",
              "      quickchartButtonEl.classList.add('colab-df-spinner');\n",
              "      try {\n",
              "        const charts = await google.colab.kernel.invokeFunction(\n",
              "            'suggestCharts', [key], {});\n",
              "      } catch (error) {\n",
              "        console.error('Error during call to suggestCharts:', error);\n",
              "      }\n",
              "      quickchartButtonEl.classList.remove('colab-df-spinner');\n",
              "      quickchartButtonEl.classList.add('colab-df-quickchart-complete');\n",
              "    }\n",
              "    (() => {\n",
              "      let quickchartButtonEl =\n",
              "        document.querySelector('#df-3e30b9c0-aa41-4282-a23d-9016209433dd button');\n",
              "      quickchartButtonEl.style.display =\n",
              "        google.colab.kernel.accessAllowed ? 'block' : 'none';\n",
              "    })();\n",
              "  </script>\n",
              "</div>\n",
              "    </div>\n",
              "  </div>\n"
            ]
          },
          "metadata": {},
          "execution_count": 4
        }
      ],
      "source": [
        "df['got_text'] = df['got_text'].apply(lambda x: x.lower())\n",
        "df.head()"
      ]
    },
    {
      "cell_type": "markdown",
      "metadata": {
        "id": "_2aLjTv454lJ"
      },
      "source": [
        "### 2.Cleaning the Data"
      ]
    },
    {
      "cell_type": "markdown",
      "metadata": {
        "id": "DKKBr9x954lJ"
      },
      "source": [
        "* All words are converted to Lower case"
      ]
    },
    {
      "cell_type": "code",
      "execution_count": 5,
      "metadata": {
        "id": "WRwIdR5054lK"
      },
      "outputs": [],
      "source": [
        "corpus = df['got_text'].to_list()[:300]"
      ]
    },
    {
      "cell_type": "code",
      "execution_count": 6,
      "metadata": {
        "id": "69ySK_5N54lK",
        "outputId": "f5dc5380-f2eb-4bd9-cebf-368c940bba50",
        "colab": {
          "base_uri": "https://localhost:8080/"
        }
      },
      "outputs": [
        {
          "output_type": "stream",
          "name": "stdout",
          "text": [
            "1069 219.53\n"
          ]
        }
      ],
      "source": [
        "MAX_LENGTH = 0\n",
        "lens = []\n",
        "\n",
        "for each_sentence in corpus:\n",
        "\n",
        "    temp_len = len(each_sentence)\n",
        "    lens.append(temp_len)\n",
        "\n",
        "    if MAX_LENGTH<temp_len:\n",
        "        MAX_LENGTH = temp_len\n",
        "\n",
        "\n",
        "print(MAX_LENGTH, np.mean(lens))"
      ]
    },
    {
      "cell_type": "code",
      "execution_count": 7,
      "metadata": {
        "id": "UqnJh_q-54lL",
        "outputId": "3b0451f8-87c0-49fb-8ac1-640cb75609c2",
        "colab": {
          "base_uri": "https://localhost:8080/"
        }
      },
      "outputs": [
        {
          "output_type": "execute_result",
          "data": {
            "text/plain": [
              "1069"
            ]
          },
          "metadata": {},
          "execution_count": 7
        }
      ],
      "source": [
        "max([len(x) for x in corpus])"
      ]
    },
    {
      "cell_type": "markdown",
      "metadata": {
        "id": "daXtavBj54lL"
      },
      "source": [
        "### 4.Preprocessing --> Tokenization, Sequences and Padding"
      ]
    },
    {
      "cell_type": "code",
      "execution_count": 8,
      "metadata": {
        "id": "EjSbWdwc54lL"
      },
      "outputs": [],
      "source": [
        "import warnings\n",
        "warnings.filterwarnings('ignore')"
      ]
    },
    {
      "cell_type": "code",
      "execution_count": 9,
      "metadata": {
        "id": "pk2ChUdU54lM"
      },
      "outputs": [],
      "source": [
        "import numpy as np\n",
        "import pandas as pd\n",
        "\n",
        "import seaborn as sns\n",
        "import matplotlib.pyplot as plt\n",
        "\n",
        "%matplotlib inline\n",
        "\n",
        "import tensorflow as tf\n",
        "from tensorflow.keras.preprocessing.text import Tokenizer\n",
        "from tensorflow.keras.preprocessing.sequence import pad_sequences"
      ]
    },
    {
      "cell_type": "code",
      "execution_count": 10,
      "metadata": {
        "id": "sgCPNpd154lM"
      },
      "outputs": [],
      "source": [
        "# Vocabulary size of the tokenizer\n",
        "VOCAB_SIZE = 10000\n",
        "\n",
        "# Output dimensions of the Embedding layer\n",
        "EMBEDDING_DIM = 64\n",
        "\n",
        "# Parameters for padding and OOV tokens\n",
        "TRUNC_TYPE = 'pre'\n",
        "PADDING_TYPE = 'pre'\n",
        "OOV_TOKEN = \"<OOV>\""
      ]
    },
    {
      "cell_type": "code",
      "execution_count": 11,
      "metadata": {
        "id": "C93GjkYt54lM"
      },
      "outputs": [],
      "source": [
        "def get_tokenizer(VOCAB_SIZE, OOV_TOKEN, X_data=corpus):\n",
        "    # Initialize the Tokenizer class\n",
        "    tokenizer = Tokenizer(num_words=VOCAB_SIZE, oov_token=OOV_TOKEN)\n",
        "\n",
        "    # Generate the word index dictionary\n",
        "    tokenizer.fit_on_texts(X_data)\n",
        "\n",
        "    return tokenizer\n",
        "\n",
        "def to_sequences_n_padding(tokenizer,MAX_LENGTH,PADDING_TYPE,TRUNC_TYPE,X_data):\n",
        "    # Generate and pad the training sequences\n",
        "    _sequences = tokenizer.texts_to_sequences(X_data)\n",
        "    _padded = pad_sequences(_sequences,\n",
        "                            maxlen=MAX_LENGTH,\n",
        "                            padding=PADDING_TYPE,\n",
        "                            truncating=TRUNC_TYPE)\n",
        "\n",
        "    return _padded\n",
        "\n",
        "\n",
        "def seq_gen(sent_seq):\n",
        "    input_seq = []\n",
        "    for line in sent_seq:\n",
        "        for i in range(1, len(line)):\n",
        "            input_seq.append(line[:i+1])\n",
        "\n",
        "    return input_seq"
      ]
    },
    {
      "cell_type": "code",
      "execution_count": 12,
      "metadata": {
        "id": "2rELMa8v54lN",
        "outputId": "435f0888-1d75-45fd-ac63-31b5e8b31f44",
        "colab": {
          "base_uri": "https://localhost:8080/"
        }
      },
      "outputs": [
        {
          "output_type": "stream",
          "name": "stdout",
          "text": [
            "word index dictionary: {'<OOV>': 1, 'the': 2, 'and': 3, 'a': 4, 'of': 5, 'his': 6, 'he': 7, 'to': 8, 'was': 9, 'it': 10, 'in': 11, 'had': 12, 'her': 13, 'with': 14, 'you': 15, 'will': 16, 'as': 17, 'that': 18, 'said': 19, 'not': 20, 'for': 21, 'they': 22, 'on': 23, 'she': 24, 'him': 25, 'them': 26, 'no': 27, 'i': 28, 'is': 29, 'but': 30, 'at': 31, 'from': 32, 'their': 33, 'were': 34, 'bran': 35, 'been': 36, 'man': 37, 'all': 38, 'did': 39, 'when': 40, 'father': 41, 'this': 42, 'there': 43, 'eyes': 44, 'have': 45, 'like': 46, 'brother': 47, 'up': 48, 'jon': 49, 'could': 50, 'what': 51, 'would': 52, 'be': 53, 'out': 54, 'lord': 55, 'gared': 56, 'men': 57, 'so': 58, 'one': 59, 'back': 60, 'old': 61, 'ser': 62, 'black': 63, 'its': 64, 'hand': 65, 'sword': 66, 'then': 67, 'cold': 68, 'robb': 69, 'we': 70, 'dead': 71, 'if': 72, 'never': 73, 'see': 74, 'are': 75, 'than': 76, 'my': 77, 'long': 78, 'your': 79, 'well': 80, 'dany': 81, 'waymar': 82, 'royce': 83, 'an': 84, 'snow': 85, 'illyrio': 86, 'do': 87, 'told': 88, 'where': 89, 'away': 90, 'around': 91, 'over': 92, 'looked': 93, 'red': 94, 'down': 95, 'off': 96, 'through': 97, 'look': 98, 'by': 99, 'first': 100, 'still': 101, 'blood': 102, 'face': 103, 'before': 104, 'hard': 105, 'half': 106, 'here': 107, 'ned': 108, 'come': 109, 'saw': 110, 'into': 111, 'or': 112, 'day': 113, 'came': 114, 'children': 115, 'only': 116, 'across': 117, 'catelyn': 118, 'dark': 119, 'asked': 120, 'enough': 121, 'me': 122, 'years': 123, 'called': 124, 'while': 125, 'viserys': 126, 'even': 127, 'us': 128, 'made': 129, 'house': 130, 'must': 131, 'words': 132, 'hands': 133, 'king': 134, 'ice': 135, 'seen': 136, 'go': 137, 'wall': 138, 'now': 139, 'again': 140, 'wind': 141, 'grey': 142, 'way': 143, 'how': 144, 'found': 145, 'behind': 146, 'tree': 147, 'heard': 148, 'who': 149, 'head': 150, 'greyjoy': 151, 'magister': 152, 'fire': 153, 'time': 154, 'under': 155, 'light': 156, 'something': 157, 'beside': 158, 'against': 159, 'took': 160, 'these': 161, 'last': 162, 'pale': 163, 'seven': 164, 'put': 165, 'too': 166, 'more': 167, 'little': 168, 'seemed': 169, 'two': 170, 'pulled': 171, 'gave': 172, 'other': 173, 'keep': 174, 'gods': 175, 'jory': 176, 'thousand': 177, 'smile': 178, 'night': 179, 'about': 180, 'watch': 181, 'beyond': 182, 'nothing': 183, 'take': 184, 'moved': 185, 'deep': 186, 'feet': 187, 'horse': 188, 'want': 189, 'thought': 190, 'hair': 191, 'stark': 192, 'has': 193, 'pup': 194, 'daenerys': 195, 'khal': 196, 'just': 197, 'hear': 198, 'forest': 199, 'every': 200, 'cloak': 201, 'boy': 202, 'yet': 203, 'fear': 204, 'tonight': 205, 'north': 206, 'many': 207, 'ever': 208, 'great': 209, 'wood': 210, 'moment': 211, 'horses': 212, 'moonlight': 213, 'gone': 214, 'free': 215, 'white': 216, 'fingers': 217, 'blue': 218, 'high': 219, 'know': 220, 'direwolf': 221, 'pups': 222, 'dragon': 223, 'voice': 224, \"night's\": 225, 'turned': 226, 'water': 227, 'hundred': 228, 'until': 229, 'trees': 230, 'felt': 231, \"there's\": 232, 'can': 233, 'own': 234, 'taken': 235, 'any': 236, 'right': 237, 'woman': 238, 'muttered': 239, 'after': 240, 'sea': 241, 'left': 242, 'yes': 243, 'beneath': 244, 'others': 245, 'sweet': 246, 'metal': 247, 'robert': 248, 'girl': 249, 'winterfell': 250, 'name': 251, 'realm': 252, 'died': 253, 'princess': 254, 'pentos': 255, 'drogo': 256, 'dothraki': 257, 'past': 258, 'ride': 259, 'does': 260, 'older': 261, 'though': 262, 'our': 263, 'lordling': 264, 'silent': 265, 'both': 266, 'watched': 267, 'lay': 268, 'some': 269, 'iron': 270, 'young': 271, 'arms': 272, \"it's\": 273, 'feel': 274, 'warm': 275, 'three': 276, 'given': 277, 'rose': 278, 'perhaps': 279, 'why': 280, 'sound': 281, 'longsword': 282, 'steel': 283, 'heart': 284, 'knew': 285, \"bran's\": 286, 'small': 287, 'pony': 288, 'theon': 289, 'die': 290, 'lived': 291, 'godswood': 292, 'sister': 293, 'usurper': 294, 'should': 295, 'same': 296, 'thing': 297, 'things': 298, 'thick': 299, 'close': 300, 'edge': 301, 'knight': 302, 'say': 303, 'sable': 304, 'soft': 305, 'sat': 306, \"don't\": 307, 'best': 308, 'tell': 309, 'ridge': 310, 'leaves': 311, 'foot': 312, 'milk': 313, 'ears': 314, 'went': 315, 'rode': 316, 'better': 317, 'slid': 318, 'big': 319, 'sentinel': 320, 'stopped': 321, 'stood': 322, 'among': 323, 'between': 324, 'kept': 325, 'silence': 326, 'set': 327, \"king's\": 328, \"man's\": 329, 'kingdoms': 330, 'sure': 331, 'give': 332, 'place': 333, 'faces': 334, 'waters': 335, 'stone': 336, 'walls': 337, 'narrow': 338, 'always': 339, 'love': 340, 'slaves': 341, 'dragonstone': 342, 'golden': 343, \"illyrio's\": 344, 'silver': 345, 'woods': 346, 'began': 347, 'known': 348, 'eight': 349, 'nine': 350, 'mouth': 351, 'anger': 352, 'hood': 353, 'darkness': 354, 'much': 355, 'ancient': 356, 'leather': 357, 'year': 358, 'killed': 359, 'himself': 360, 'women': 361, 'rock': 362, 'covered': 363, 'few': 364, 'heavy': 365, 'ground': 366, 'branches': 367, 'whispered': 368, 'think': 369, 'winter': 370, 'hot': 371, 'good': 372, 'maester': 373, 'cut': 374, 'fur': 375, 'done': 376, 'wolf': 377, 'afraid': 378, 'answer': 379, 'hilt': 380, 'life': 381, 'breath': 382, 'battle': 383, 'am': 384, 'green': 385, 'throat': 386, 'blade': 387, 'almost': 388, 'air': 389, 'closed': 390, 'morning': 391, 'summer': 392, 'skin': 393, 'ragged': 394, 'starks': 395, 'five': 396, 'age': 397, \"father's\": 398, 'party': 399, 'riverrun': 400, 'bridge': 401, 'sell': 402, 'targaryen': 403, 'cry': 404, 'those': 405, 'banners': 406, 'coming': 407, 'eyrie': 408, 'servants': 409, 'door': 410, 'land': 411, 'grow': 412, 'rise': 413, 'softly': 414, 'nurse': 415, 'replied': 416, \"woman's\": 417, 'glanced': 418, 'sky': 419, 'nervous': 420, 'four': 421, 'sent': 422, 'stories': 423, 'laughed': 424, 'different': 425, 'riding': 426, 'farther': 427, 'living': 428, 'watching': 429, 'loved': 430, 'mounted': 431, 'huge': 432, 'destrier': 433, 'ringmail': 434, 'twisted': 435, 'garron': 436, 'snows': 437, 'brothers': 438, 'got': 439, 'dared': 440, 'make': 441, 'swords': 442, 'fallen': 443, 'ironwood': 444, 'chill': 445, \"m'lord\": 446, 'comes': 447, 'teeth': 448, 'inside': 449, 'pain': 450, 'everything': 451, 'such': 452, 'week': 453, 'nodded': 454, 'quick': 455, 'kill': 456, 'let': 457, 'making': 458, 'hidden': 459, 'wrong': 460, 'brought': 461, 'moon': 462, 'dismounted': 463, 'rest': 464, 'low': 465, 'ran': 466, 'castle': 467, 'forged': 468, 'new': 469, 'guard': 470, 'thin': 471, 'below': 472, 'shone': 473, \"won't\": 474, 'soon': 475, 'call': 476, 'tall': 477, 'met': 478, 'lifted': 479, 'burned': 480, 'may': 481, 'death': 482, 'second': 483, 'fell': 484, 'arm': 485, 'touched': 486, 'brushed': 487, 'courage': 488, 'broken': 489, 'blind': 490, 'justice': 491, 'word': 492, 'sun': 493, \"robb's\": 494, 'talked': 495, 'already': 496, 'smell': 497, 'south': 498, 'hullen': 499, 'antler': 500, 'born': 501, 'agreed': 502, 'understood': 503, 'yourself': 504, 'promised': 505, 'itself': 506, 'sept': 507, 'weirwood': 508, 'valyria': 509, 'arryn': 510, 'hers': 511, 'friends': 512, 'send': 513, 'shall': 514, 'lannister': 515, 'gold': 516, 'city': 517, 'throne': 518, 'window': 519, 'manse': 520, 'ours': 521, 'palanquin': 522, 'wildlings': 523, 'proof': 524, 'says': 525, 'sooner': 526, 'later': 527, 'wished': 528, 'wet': 529, 'anything': 530, 'echoed': 531, 'pointed': 532, 'else': 533, 'taste': 534, 'shared': 535, 'afterward': 536, 'wildling': 537, 'each': 538, 'worse': 539, 'rustle': 540, 'wanted': 541, 'son': 542, 'youth': 543, 'wore': 544, 'moleskin': 545, 'least': 546, 'wine': 547, 'heads': 548, 'shivering': 549, 'trouble': 550, 'hope': 551, 'storm': 552, 'understand': 553, 'truth': 554, 'move': 555, 'stream': 556, 'lean': 557, 'moving': 558, 'admitted': 559, 'axe': 560, 'looking': 561, 'most': 562, 'far': 563, 'smiled': 564, 'closer': 565, 'shivered': 566, \"royce's\": 567, 'sit': 568, 'end': 569, 'finger': 570, 'dozen': 571, 'find': 572, 'surely': 573, 'lead': 574, 'myself': 575, 'honor': 576, 'bound': 577, 'front': 578, 'carefully': 579, 'roots': 580, 'lying': 581, 'waiting': 582, 'mount': 583, 'try': 584, 'color': 585, 'full': 586, 'alive': 587, \"can't\": 588, 'sheath': 589, 'jewels': 590, 'need': 591, 'fool': 592, 'enemies': 593, 'finally': 594, 'empty': 595, 'clearing': 596, 'chest': 597, 'ago': 598, 'get': 599, 'forth': 600, 'sticky': 601, 'sap': 602, 'needles': 603, 'filled': 604, 'comfort': 605, 'suddenly': 606, 'eye': 607, 'shadow': 608, 'another': 609, 'opened': 610, 'clung': 611, 'tightly': 612, 'cheek': 613, 'gaunt': 614, 'shoulders': 615, 'forward': 616, 'human': 617, 'faint': 618, 'bravely': 619, 'along': 620, 'shadows': 621, 'blades': 622, 'strange': 623, 'late': 624, 'cried': 625, 'side': 626, 'together': 627, 'silk': 628, 'voices': 629, 'laughter': 630, 'bear': 631, 'touch': 632, 'outside': 633, 'holdfast': 634, 'remembered': 635, 'tales': 636, 'terrible': 637, 'dressed': 638, 'gate': 639, 'brown': 640, 'beard': 641, 'talk': 642, 'forced': 643, 'ward': 644, 'valyrian': 645, 'held': 646, 'hold': 647, 'andals': 648, 'greatsword': 649, 'bastard': 650, 'eagerly': 651, 'deserter': 652, \"mother's\": 653, 'fair': 654, \"jon's\": 655, 'strong': 656, 'follow': 657, 'thinking': 658, 'grew': 659, 'leathers': 660, 'kings': 661, 'cannot': 662, 'doubt': 663, 'sons': 664, 'boys': 665, 'size': 666, 'pushed': 667, 'noticed': 668, 'proud': 669, 'sudden': 670, 'mercy': 671, 'rip': 672, 'easy': 673, 'tongue': 674, 'train': 675, 'promise': 676, 'tully': 677, 'trident': 678, 'ten': 679, 'names': 680, 'faith': 681, 'pool': 682, 'carved': 683, 'forever': 684, 'family': 685, 'oiled': 686, 'cool': 687, \"robert's\": 688, 'price': 689, 'feast': 690, 'gown': 691, 'remember': 692, 'cities': 693, 'rough': 694, 'lords': 695, 'theirs': 696, 'landing': 697, 'sometimes': 698, \"usurper's\": 699, 'willem': 700, 'lemon': 701, 'myr': 702, 'targaryens': 703, 'bowed': 704, 'glass': 705, 'curtains': 706, 'eunuch': 707, 'song': 708, 'start': 709, 'urged': 710, 'hint': 711, 'business': 712, \"that's\": 713, 'rather': 714, 'mother': 715, 'sing': 716, 'days': 717, 'maybe': 718, \"gared's\": 719, 'forty': 720, 'pride': 721, 'sense': 722, 'rushing': 723, 'rangings': 724, 'track': 725, 'today': 726, 'safety': 727, 'share': 728, 'commander': 729, 'youngest': 730, 'handsome': 731, 'eyed': 732, 'graceful': 733, 'slender': 734, 'knife': 735, 'towered': 736, 'above': 737, 'boots': 738, 'gloves': 739, 'fine': 740, 'sworn': 741, 'less': 742, 'prepared': 743, 'glory': 744, 'mighty': 745, 'orders': 746, 'reflected': 747, 'mormont': 748, \"snow's\": 749, 'studied': 750, 'twilight': 751, 'freeriders': 752, 'handed': 753, \"mallisters'\": 754, 'choice': 755, 'losing': 756, 'camp': 757, 'firepit': 758, 'double': 759, 'bladed': 760, 'cruel': 761, 'bodies': 762, 'shrugged': 763, 'insisted': 764, 'care': 765, \"wasn't\": 766, 'neither': 767, 'despite': 768, 'might': 769, 'freeze': 770, 'real': 771, 'dream': 772, 'fires': 773, 'burns': 774, 'starts': 775, 'fill': 776, 'strength': 777, 'sleep': 778, 'toward': 779, \"i've\": 780, 'frozen': 781, 'ought': 782, 'dress': 783, 'aemon': 784, 'watches': 785, 'bloody': 786, 'weeping': 787, 'clear': 788, 'bright': 789, 'flurry': 790, 'fierce': 791, 'near': 792, 'shaggy': 793, 'sinks': 794, 'crust': 795, 'warhorse': 796, 'ranging': 797, 'purple': 798, 'stars': 799, 'pace': 800, 'insolent': 801, 'somewhere': 802, 'staring': 803, 'stirred': 804, 'listen': 805, 'drew': 806, 'glittered': 807, 'splendid': 808, 'weapon': 809, 'swung': 810, 'warned': 811, 'ask': 812, \"i'll\": 813, 'direwolves': 814, \"waymar's\": 815, 'line': 816, 'stared': 817, 'use': 818, \"lordling's\": 819, 'footing': 820, 'climbed': 821, 'bare': 822, 'flat': 823, 'breathe': 824, 'slashed': 825, 'outlined': 826, 'seem': 827, 'abandoned': 828, 'groped': 829, 'untouched': 830, 'open': 831, 'going': 832, 'wordless': 833, 'argue': 834, 'lost': 835, 'prayer': 836, 'nameless': 837, 'climbing': 838, 'goes': 839, 'listened': 840, 'icy': 841, 'distant': 842, 'glimpsed': 843, 'gently': 844, 'bird': 845, 'turning': 846, 'slow': 847, 'trunk': 848, 'emerged': 849, 'flesh': 850, 'armor': 851, 'change': 852, 'everywhere': 853, 'dappled': 854, 'patterns': 855, 'step': 856, 'forging': 857, 'shard': 858, 'crystal': 859, 'weight': 860, 'fixed': 861, 'trembling': 862, 'hugged': 863, 'animal': 864, 'blow': 865, 'third': 866, 'watchers': 867, 'faceless': 868, 'cover': 869, 'steaming': 870, 'frost': 871, \"other's\": 872, 'parry': 873, 'welled': 874, 'rings': 875, 'shouted': 876, 'shattered': 877, 'sharp': 878, 'passed': 879, 'body': 880, 'places': 881, 'knelt': 882, 'pupil': 883, 'tightened': 884, 'hills': 885, 'mance': 886, 'rayder': 887, 'nan': 888, 'drank': 889, 'polished': 890, 'taller': 891, 'except': 892, 'furs': 893, 'dragged': 894, 'trying': 895, \"he'd\": 896, 'field': 897, 'solemnly': 898, 'heroes': 899, 'stump': 900, 'center': 901, 'square': 902, 'onto': 903, 'eddard': 904, 'wide': 905, 'spell': 906, 'cassel': 907, 'baratheon': 908, 'rhoynar': 909, 'protector': 910, 'sentence': 911, 'stroke': 912, 'reared': 913, 'kicked': 914, 'shoulder': 915, 'ahead': 916, 'struggling': 917, 'tullys': 918, 'swore': 919, 'followed': 920, 'galloped': 921, 'laughing': 922, 'hooves': 923, 'brave': 924, 'knows': 925, 'flinch': 926, 'matter': 927, 'question': 928, 'veins': 929, 'waved': 930, 'quickly': 931, 'solid': 932, 'reach': 933, 'reached': 934, 'bundle': 935, \"she's\": 936, 'faster': 937, 'dismount': 938, 'freak': 939, 'bloodstained': 940, 'shape': 941, 'perfume': 942, 'kind': 943, 'loose': 944, 'frowned': 945, 'cleansed': 946, 'broke': 947, 'bitch': 948, 'squirmed': 949, 'mine': 950, 'someday': 951, 'litter': 952, 'live': 953, \"she'll\": 954, 'apart': 955, 'formal': 956, 'daughters': 957, 'included': 958, 'rickon': 959, 'bore': 960, 'thoughtfully': 961, 'feed': 962, 'help': 963, 'dogs': 964, 'victory': 965, 'listening': 966, 'smiling': 967, 'alone': 968, 'liked': 969, 'redwoods': 970, 'spread': 971, 'sang': 972, 'scent': 973, 'sort': 974, 'moist': 975, 'armored': 976, 'wove': 977, 'husband': 978, 'seek': 979, 'anointed': 980, 'oils': 981, 'named': 982, 'worship': 983, 'raised': 984, 'sake': 985, 'built': 986, 'ones': 987, 'bark': 988, 'bone': 989, 'centuries': 990, 'isle': 991, 'seated': 992, 'upon': 993, 'floor': 994, 'kitchen': 995, 'sorts': 996, 'people': 997, 'lightly': 998, 'within': 999, 'times': 1000, 'beauty': 1001, 'doom': 1002, 'worked': 1003, 'mad': 1004, 'ben': 1005, 'dread': 1006, 'luwin': 1007, 'either': 1008, 'lady': 1009, \"husband's\": 1010, 'news': 1011, 'wish': 1012, 'become': 1013, 'protect': 1014, 'wed': 1015, 'sisters': 1016, 'certain': 1017, 'letter': 1018, 'suppose': 1019, 'grief': 1020, 'message': 1021, 'needs': 1022, 'vale': 1023, 'shouts': 1024, 'herself': 1025, 'please': 1026, 'course': 1027, 'notice': 1028, 'knights': 1029, \"queen's\": 1030, 'also': 1031, 'lannisters': 1032, 'casterly': 1033, 'forgiven': 1034, 'damn': 1035, 'hide': 1036, 'fabric': 1037, 'run': 1038, 'frightened': 1039, 'really': 1040, 'gift': 1041, 'bring': 1042, 'violet': 1043, \"magister's\": 1044, 'lilac': 1045, 'spices': 1046, 'gemstones': 1047, 'dragonbone': 1048, 'vaes': 1049, 'dothrak': 1050, 'streets': 1051, 'hung': 1052, 'critically': 1053, 'breasts': 1054, 'fail': 1055, 'tunic': 1056, 'bay': 1057, 'brick': 1058, 'towers': 1059, 'priests': 1060, 'playing': 1061, 'sunset': 1062, 'plains': 1063, 'oh': 1064, 'dorne': 1065, 'often': 1066, 'flight': 1067, 'rhaegar': 1068, 'elia': 1069, 'ripped': 1070, 'dragons': 1071, 'room': 1072, 'kingslayer': 1073, 'fleet': 1074, 'sail': 1075, 'once': 1076, 'darry': 1077, 'stolen': 1078, 'braavos': 1079, 'since': 1080, 'tyrosh': 1081, 'hired': 1082, 'knives': 1083, 'magisters': 1084, 'doors': 1085, 'helped': 1086, 'clean': 1087, 'rich': 1088, 'collars': 1089, 'khalasar': 1090, 'lips': 1091, 'collar': 1092, 'entry': 1093, 'hall': 1094, 'massive': 1095, 'colored': 1096, 'yellow': 1097, 'vision': 1098, 'grace': 1099, \"brother's\": 1100, 'oil': 1101, 'lanterns': 1102, 'borrowed': 1103, 'agents': 1104, 'anyone': 1105, 'mistrusted': 1106, 'nodding': 1107, 'overgrown': 1108, 'ivy': 1109, 'horselords': 1110, 'bronze': 1111, 'clenched': 1112, 'guests': 1113, 'game': 1114, 'thrones': 1115, 'prologue': 1116, 'frighten': 1117, 'bait': 1118, 'fifty': 1119, 'lordlings': 1120, 'drag': 1121, 'quarrel': 1122, 'songs': 1123, 'believe': 1124, 'tit': 1125, 'learned': 1126, 'loud': 1127, 'twilit': 1128, 'falling': 1129, 'disinterest': 1130, 'unmanned': 1131, 'tightness': 1132, 'barely': 1133, 'suppressed': 1134, 'spent': 1135, 'accustomed': 1136, 'being': 1137, 'wounded': 1138, 'tension': 1139, 'perilous': 1140, 'unease': 1141, 'bowels': 1142, 'veteran': 1143, 'endless': 1144, 'wilderness': 1145, 'southron': 1146, 'haunted': 1147, 'terrors': 1148, 'hackles': 1149, 'northwest': 1150, 'band': 1151, 'raiders': 1152, 'worst': 1153, 'blowing': 1154, 'implacable': 1155, 'hellbent': 1156, 'feeling': 1157, 'especially': 1158, 'heirs': 1159, 'eighteen': 1160, 'smaller': 1161, 'garrons': 1162, 'woolen': 1163, 'pants': 1164, 'supple': 1165, 'coat': 1166, 'gleaming': 1167, 'layers': 1168, 'wool': 1169, 'boiled': 1170, 'vocation': 1171, 'insofar': 1172, 'wardrobe': 1173, 'concerned': 1174, 'crowning': 1175, 'sin': 1176, 'bet': 1177, 'barracks': 1178, 'warrior': 1179, 'laugh': 1180, 'cups': 1181, 'atop': 1182, \"they're\": 1183, \"shan't\": 1184, 'weather': 1185, 'fortnight': 1186, 'getting': 1187, 'deepening': 1188, 'bored': 1189, 'distracted': 1190, 'ridden': 1191, 'interrupt': 1192, 'details': 1193, 'leave': 1194, 'hunter': 1195, 'joined': 1196, 'poacher': 1197, 'mallister': 1198, 'caught': 1199, 'skinning': 1200, 'bucks': 1201, 'putting': 1202, 'discover': 1203, 'talent': 1204, 'miles': 1205, 'pretty': 1206, 'burning': 1207, 'plain': 1208, 'weapons': 1209, 'bows': 1210, 'piece': 1211, 'note': 1212, 'position': 1213, 'couple': 1214, 'sitting': 1215, 'sleeping': 1216, 'suggested': 1217, 'hid': 1218, 'thinly': 1219, 'grizzled': 1220, 'frostfallen': 1221, 'restlessly': 1222, 'casually': 1223, 'adjusted': 1224, 'drape': 1225, 'certainty': 1226, 'everyone': 1227, 'talks': 1228, 'howling': 1229, 'enemy': 1230, 'steals': 1231, 'quieter': 1232, 'shiver': 1233, 'chatter': 1234, 'stamp': 1235, 'mulled': 1236, 'nice': 1237, 'gets': 1238, 'fight': 1239, 'easier': 1240, 'weak': 1241, 'drowsy': 1242, 'fade': 1243, 'sinking': 1244, 'peaceful': 1245, 'eloquence': 1246, 'observed': 1247, 'suspected': 1248, 'giving': 1249, 'stumps': 1250, 'toes': 1251, 'warmly': 1252, 'glared': 1253, 'scars': 1254, 'ear': 1255, 'holes': 1256, 'flushed': 1257, \"we'll\": 1258, 'hunched': 1259, 'sullen': 1260, 'drawn': 1261, 'draw': 1262, 'driving': 1263, 'frowning': 1264, \"couldn't\": 1265, 'froze': 1266, 'lad': 1267, \"we've\": 1268, 'frosts': 1269, 'grown': 1270, 'clad': 1271, 'remind': 1272, 'shelter': 1273, 'means': 1274, \"knight's\": 1275, 'cocksure': 1276, 'order': 1277, 'obey': 1278, 'picking': 1279, 'undergrowth': 1280, 'stones': 1281, 'careless': 1282, 'unwary': 1283, 'next': 1284, 'snorting': 1285, 'impatiently': 1286, 'rear': 1287, 'deepened': 1288, 'cloudless': 1289, 'bruise': 1290, 'faded': 1291, 'grateful': 1292, 'risen': 1293, 'deign': 1294, 'reply': 1295, 'howled': 1296, 'gnarled': 1297, 'stopping': 1298, 'paused': 1299, 'distance': 1300, 'reflective': 1301, 'disdainful': 1302, 'rustling': 1303, 'which': 1304, 'unmans': 1305, 'gracefully': 1306, 'saddle': 1307, 'tied': 1308, 'securely': 1309, 'hanging': 1310, 'limb': 1311, 'shining': 1312, 'doubted': 1313, 'press': 1314, 'tangle': 1315, 'instruction': 1316, 'stay': 1317, 'bears': 1318, 'andand': 1319, 'became': 1320, 'shadowed': 1321, 'glitter': 1322, 'short': 1323, 'ugly': 1324, 'grip': 1325, 'discolored': 1326, 'sweat': 1327, 'nicked': 1328, 'bob': 1329, 'scabbard': 1330, 'acquiescence': 1331, 'threaded': 1332, 'thicket': 1333, 'started': 1334, 'slope': 1335, 'vantage': 1336, 'point': 1337, 'damp': 1338, 'muddy': 1339, 'slick': 1340, 'rocks': 1341, 'trip': 1342, 'metallic': 1343, 'slither': 1344, 'curses': 1345, 'reaching': 1346, 'grabbed': 1347, 'tugged': 1348, 'top': 1349, 'lowest': 1350, 'underneath': 1351, 'belly': 1352, 'mud': 1353, 'ashes': 1354, 'hours': 1355, 'branch': 1356, 'gained': 1357, 'billowing': 1358, 'nobly': 1359, 'urgently': 1360, \"something's\": 1361, \"will's\": 1362, 'possible': 1363, 'swept': 1364, 'campsite': 1365, 'valuable': 1366, 'commanded': 1367, 'hiding': 1368, 'bush': 1369, 'reluctantly': 1370, 'obeyed': 1371, 'disapproval': 1372, 'failure': 1373, 'vaulting': 1374, 'climb': 1375, 'gut': 1376, 'meal': 1377, 'digest': 1378, 'slipped': 1379, 'dirk': 1380, 'uncertainty': 1381, 'challenge': 1382, 'rush': 1383, 'hoot': 1384, 'owl': 1385, 'movement': 1386, 'corner': 1387, 'shapes': 1388, 'gliding': 1389, 'scratching': 1390, 'wooden': 1391, 'warning': 1392, 'reflection': 1393, 'trick': 1394, 'circle': 1395, 'wary': 1396, 'perch': 1397, 'pressed': 1398, 'bones': 1399, 'hiss': 1400, 'cracked': 1401, \"boy's\": 1402, 'threw': 1403, 'very': 1404, 'none': 1405, 'translucent': 1406, 'vanish': 1407, 'shimmer': 1408, 'ghost': 1409, 'played': 1410, 'edges': 1411, 'somehow': 1412, 'sharper': 1413, 'razor': 1414, 'dance': 1415, 'defiant': 1416, 'trembled': 1417, 'longer': 1418, 'halted': 1419, 'deeper': 1420, 'bluer': 1421, 'running': 1422, 'heartbeat': 1423, 'silently': 1424, 'twins': 1425, 'themfourfiveser': 1426, 'duty': 1427, 'ring': 1428, 'hearing': 1429, 'screaming': 1430, 'checked': 1431, 'blows': 1432, 'patient': 1433, 'shifting': 1434, 'delicate': 1435, 'invisible': 1436, 'interfere': 1437, 'anguished': 1438, 'keening': 1439, 'clash': 1440, 'panting': 1441, 'effort': 1442, 'danced': 1443, 'beat': 1444, 'bit': 1445, 'steamed': 1446, 'droplets': 1447, 'glove': 1448, 'soaked': 1449, 'language': 1450, 'cracking': 1451, 'lake': 1452, 'mocking': 1453, 'fury': 1454, 'snarling': 1455, 'lifting': 1456, 'swinging': 1457, 'sidearm': 1458, 'slash': 1459, 'lazy': 1460, 'scream': 1461, 'brittle': 1462, 'pieces': 1463, 'shards': 1464, 'scattering': 1465, 'rain': 1466, 'knees': 1467, 'shrieking': 1468, 'signal': 1469, 'deathly': 1470, 'butchery': 1471, 'sliced': 1472, 'icicles': 1473, 'stayed': 1474, 'scarce': 1475, 'daring': 1476, 'crept': 1477, 'slowly': 1478, 'muscles': 1479, 'cramping': 1480, 'numb': 1481, 'facedown': 1482, 'outflung': 1483, 'splintered': 1484, 'struck': 1485, 'lightning': 1486, 'warily': 1487, 'snatched': 1488, 'hurry': 1489, 'clothes': 1490, 'tatter': 1491, 'ruin': 1492, 'transfixed': 1493, 'nerveless': 1494, 'pray': 1495, 'elegant': 1496, 'gloved': 1497, 'finest': 1498, 'dawned': 1499, 'crispness': 1500, 'hinted': 1501, 'daybreak': 1502, 'beheaded': 1503, 'twenty': 1504, 'excitement': 1505, 'deemed': 1506, 'ninth': 1507, 'seventh': 1508, 'prickle': 1509, 'hearth': 1510, 'slavers': 1511, 'slayers': 1512, 'thieves': 1513, 'consorted': 1514, 'giants': 1515, 'ghouls': 1516, 'stole': 1517, 'horns': 1518, 'sire': 1519, 'awaiting': 1520, 'scrawny': 1521, 'frostbite': 1522, 'greasy': 1523, 'mingled': 1524, 'pretend': 1525, 'blew': 1526, 'flapped': 1527, 'banner': 1528, 'racing': 1529, 'stirring': 1530, 'closely': 1531, 'trimmed': 1532, 'shot': 1533, 'thirty': 1534, 'grim': 1535, 'cast': 1536, 'evening': 1537, 'donned': 1538, 'questions': 1539, 'answers': 1540, 'recall': 1541, 'command': 1542, 'guardsmen': 1543, 'smoke': 1544, 'peeled': 1545, 'captain': 1546, 'household': 1547, 'warden': 1548, 'single': 1549, 'sprayed': 1550, 'surnmerwine': 1551, 'restrained': 1552, 'bolting': 1553, 'reddening': 1554, 'bounced': 1555, 'root': 1556, 'rolled': 1557, \"greyjoy's\": 1558, 'nineteen': 1559, 'amusing': 1560, 'boot': 1561, 'ass': 1562, 'fourteen': 1563, 'colder': 1564, 'higher': 1565, 'main': 1566, 'broad': 1567, 'growing': 1568, 'coloring': 1569, 'quietly': 1570, 'alike': 1571, 'muscular': 1572, 'fast': 1573, 'impressed': 1574, 'race': 1575, 'kicking': 1576, 'cursed': 1577, 'trail': 1578, 'hooting': 1579, 'intent': 1580, 'showers': 1581, 'receded': 1582, 'unkindly': 1583, 'wrapped': 1584, 'loomed': 1585, 'giant': 1586, \"he's\": 1587, 'carry': 1588, 'telling': 1589, 'oathbreaker': 1590, 'dangerous': 1591, 'forfeit': 1592, 'crime': 1593, 'vile': 1594, 'mistake': 1595, 'headsman': 1596, 'uncertainly': 1597, 'flows': 1598, 'belief': 1599, 'passes': 1600, 'swing': 1601, 'owe': 1602, 'final': 1603, 'deserve': 1604, 'bannerman': 1605, 'holding': 1606, 'fall': 1607, 'pleasure': 1608, 'task': 1609, 'ruler': 1610, 'hides': 1611, 'paid': 1612, 'executioners': 1613, 'forgets': 1614, 'reappeared': 1615, 'crest': 1616, 'hill': 1617, 'mischief': 1618, 'rooted': 1619, 'trot': 1620, 'riverbank': 1621, 'moonturn': 1622, 'knee': 1623, 'cradling': 1624, 'hushed': 1625, 'excited': 1626, 'riders': 1627, 'picked': 1628, 'drifts': 1629, 'groping': 1630, 'uneven': 1631, 'joking': 1632, 'exclaimed': 1633, 'control': 1634, \"jory's\": 1635, 'grinned': 1636, 'hurt': 1637, 'afire': 1638, 'curiosity': 1639, 'spurred': 1640, 'approach': 1641, 'jumped': 1642, 'hells': 1643, 'saying': 1644, 'thumping': 1645, 'waist': 1646, 'drift': 1647, \"brothers'\": 1648, 'buried': 1649, 'slumped': 1650, 'formed': 1651, 'corruption': 1652, 'crawling': 1653, 'maggots': 1654, 'yellowed': 1655, 'gasp': 1656, 'bigger': 1657, 'twice': 1658, 'largest': 1659, 'hound': 1660, 'kennel': 1661, 'calmly': 1662, 'larger': 1663, 'sighted': 1664, 'tore': 1665, 'monster': 1666, 'delight': 1667, 'tiny': 1668, 'ball': 1669, 'nuzzled': 1670, 'blindly': 1671, 'cradled': 1672, 'searching': 1673, 'sad': 1674, 'whimpery': 1675, 'hesitantly': 1676, 'master': 1677, 'sign': 1678, 'troubled': 1679, 'crunched': 1680, 'jaw': 1681, \"beast's\": 1682, 'yank': 1683, 'tines': 1684, 'snapped': 1685, 'descended': 1686, 'uneasily': 1687, 'speak': 1688, 'tossed': 1689, \"i'm\": 1690, 'surprised': 1691, 'whelp': 1692, \"didn't\": 1693, 'talesmaybe': 1694, 'luck': 1695, 'dismay': 1696, 'beast': 1697, 'fiercely': 1698, 'sounded': 1699, 'commanding': 1700, 'harwin': 1701, \"hullen's\": 1702, 'rescue': 1703, 'frown': 1704, 'furrowed': 1705, 'brow': 1706, 'speaks': 1707, 'truly': 1708, 'swift': 1709, 'starvation': 1710, 'tears': 1711, 'welling': 1712, 'resisted': 1713, 'stubbornly': 1714, \"rodrik's\": 1715, 'whelped': 1716, 'desperate': 1717, 'male': 1718, 'female': 1719, 'trueborn': 1720, 'sigil': 1721, 'meant': 1722, 'exchange': 1723, 'glances': 1724, 'count': 1725, 'because': 1726, 'omitted': 1727, 'girls': 1728, 'baby': 1729, 'surname': 1730, 'custom': 1731, 'decreed': 1732, 'unlucky': 1733, 'graces': 1734, 'regarded': 1735, 'rushed': 1736, 'soak': 1737, 'towel': 1738, 'suck': 1739, 'weighed': 1740, 'harder': 1741, 'wasting': 1742, \"servants'\": 1743, 'yourselves': 1744, 'grasp': 1745, 'licked': 1746, 'kennelmaster': 1747, 'monsters': 1748, 'neglect': 1749, 'brutalize': 1750, 'badly': 1751, 'beg': 1752, 'treats': 1753, 'slink': 1754, 'kick': 1755, 'easily': 1756, 'dog': 1757, 'rat': 1758, 'anyway': 1759, 'desmond': 1760, 'gather': 1761, 'allowed': 1762, 'snuggled': 1763, 'safe': 1764, 'home': 1765, 'wondering': 1766, 'halfway': 1767, 'clatter': 1768, 'planks': 1769, 'whimpering': 1770, 'hungry': 1771, 'kneel': 1772, 'crawled': 1773, 'driven': 1774, 'sixth': 1775, 'curious': 1776, 'albino': 1777, 'wry': 1778, 'amusement': 1779, 'chilling': 1780, 'belongs': 1781, 'fork': 1782, 'garden': 1783, 'airy': 1784, 'tinkling': 1785, 'streams': 1786, 'birds': 1787, 'nests': 1788, 'spicy': 1789, 'flowers': 1790, 'primal': 1791, 'acres': 1792, 'gloomy': 1793, 'smelled': 1794, 'earth': 1795, 'decay': 1796, 'stubborn': 1797, 'oaks': 1798, 'ironwoods': 1799, 'trunks': 1800, 'crowded': 1801, 'dense': 1802, 'canopy': 1803, 'overhead': 1804, 'misshappen': 1805, 'wrestled': 1806, 'soil': 1807, 'brooding': 1808, 'whenever': 1809, 'quiet': 1810, 'rainbow': 1811, 'grandfather': 1812, 'familiar': 1813, 'parents': 1814, 'septon': 1815, 'censer': 1816, 'incense': 1817, 'sided': 1818, 'houses': 1819, 'walk': 1820, 'read': 1821, 'lie': 1822, 'god': 1823, 'flowed': 1824, 'greenwood': 1825, 'vanished': 1826, 'grove': 1827, 'brooded': 1828, \"weirwood's\": 1829, 'features': 1830, 'melancholy': 1831, 'dried': 1832, 'strangely': 1833, 'watchful': 1834, 'brandon': 1835, 'builder': 1836, 'true': 1837, \"castle's\": 1838, 'granite': 1839, 'during': 1840, 'dawn': 1841, 'weirwoods': 1842, 'moss': 1843, 'lap': 1844, 'cleaning': 1845, 'humus': 1846, 'swallowing': 1847, 'arguing': 1848, 'ignore': 1849, 'arya': 1850, 'sansa': 1851, 'charmed': 1852, 'gracious': 1853, 'quite': 1854, 'learn': 1855, 'fears': 1856, 'noble': 1857, 'mottoes': 1858, 'touchstones': 1859, 'prayers': 1860, 'boasted': 1861, 'loyalty': 1862, 'northerners': 1863, 'swatch': 1864, 'spoke': 1865, 'polishing': 1866, 'glow': 1867, 'glad': 1868, 'stroked': 1869, 'rippling': 1870, 'folded': 1871, 'deny': 1872, 'freehold': 1873, 'ironsmiths': 1874, 'spells': 1875, 'hammers': 1876, 'legacy': 1877, 'fourth': 1878, 'grimly': 1879, 'poor': 1880, 'sighed': 1881, 'writes': 1882, 'desertions': 1883, 'length': 1884, 'deal': 1885, 'shudder': 1886, 'darker': 1887, 'thoughts': 1888, 'gentle': 1889, \"nan's\": 1890, 'reminded': 1891, 'rueful': 1892, 'crib': 1893, 'grievous': 1894, 'soften': 1895, 'straight': 1896, 'sorry': 1897, 'fostered': 1898, 'childless': 1899, 'fellow': 1900, 'aerys': 1901, 'ii': 1902, 'demanded': 1903, 'falcon': 1904, 'revolt': 1905, 'pledged': 1906, 'fifteen': 1907, 'hoster': 1908, 'seal': 1909, 'saved': 1910, 'pycelle': 1911, 'helpless': 1912, 'poppy': 1913, 'linger': 1914, 'returned': 1915, 'instead': 1916, 'lonely': 1917, 'memory': 1918, 'haunt': 1919, 'uncle': 1920, 'waits': 1921, \"i'd\": 1922, 'brynden': 1923, 'halls': 1924, 'noise': 1925, 'lysa': 1926, 'tidings': 1927, 'comprehend': 1928, 'understanding': 1929, 'joy': 1930, 'yards': 1931, 'coiled': 1932, 'snake': 1933, 'signs': 1934, 'swiftest': 1935, 'damnation': 1936, 'gives': 1937, 'retainers': 1938, 'cersei': 1939, 'travel': 1940, 'sakes': 1941, 'prepare': 1942, 'grimaced': 1943, 'cause': 1944, 'company': 1945, 'infestation': 1946, 'sounds': 1947, 'bringing': 1948, 'court': 1949, 'follows': 1950, 'sucking': 1951, 'teat': 1952, 'prince': 1953, 'tommen': 1954, 'queen': 1955, 'passing': 1956, 'squeezed': 1957, 'singers': 1958, 'hunt': 1959, 'meet': 1960, 'kingsroad': 1961, 'escort': 1962, 'royal': 1963, 'inspection': 1964, 'caress': 1965, 'cloth': 1966, 'smooth': 1967, 'wearing': 1968, 'mood': 1969, 'forgotten': 1970, 'nigh': 1971, 'eating': 1972, 'food': 1973, 'pampered': 1974, 'thirteen': 1975, 'gifts': 1976, 'seldom': 1977, 'without': 1978, 'feverish': 1979, 'forget': 1980, 'dealer': 1981, 'savory': 1982, 'fabled': 1983, 'lands': 1984, 'jade': 1985, 'friend': 1986, \"wouldn't\": 1987, 'cheerfully': 1988, 'webs': 1989, 'roused': 1990, 'waking': 1991, 'bathe': 1992, 'wash': 1993, 'stink': 1994, 'stables': 1995, 'looks': 1996, 'slouch': 1997, 'straighten': 1998, 'budding': 1999, 'nipple': 2000, 'wake': 2001, 'pinch': 2002, 'cruelly': 2003, 'repeated': 2004, 'meekly': 2005, 'affection': 2006, 'write': 2007, 'history': 2008, 'reign': 2009, 'wistfully': 2010, 'silhouettes': 2011, 'setting': 2012, 'singing': 2013, 'lit': 2014, 'games': 2015, 'estate': 2016, 'barefoot': 2017, 'breathless': 2018, 'tatters': 2019, 'future': 2020, 'attend': 2021, \"drogo's\": 2022, 'flowered': 2023, 'rivers': 2024, 'amidst': 2025, 'magnificent': 2026, 'mountains': 2027, 'rhaesh': 2028, 'andahli': 2029, 'westeros': 2030, 'simpler': 2031, 'treachery': 2032, 'steal': 2033, 'remembers': 2034, 'highgarden': 2035, 'fled': 2036, 'escape': 2037, 'advancing': 2038, 'armies': 2039, 'quickening': 2040, 'womb': 2041, 'picture': 2042, 'midnight': 2043, 'shimmering': 2044, \"ship's\": 2045, 'sails': 2046, 'battling': 2047, 'dying': 2048, 'sack': 2049, 'pleading': 2050, \"rhaegar's\": 2051, 'heir': 2052, 'breast': 2053, 'murdered': 2054, 'skulls': 2055, 'sightlessly': 2056, 'moons': 2057, 'raging': 2058, 'threatened': 2059, 'island': 2060, 'fastness': 2061, 'smashed': 2062, 'anchor': 2063, 'blocks': 2064, 'parapets': 2065, 'hurtling': 2066, 'wild': 2067, 'birthing': 2068, 'seat': 2069, 'remained': 2070, 'remain': 2071, 'garrison': 2072, 'loyal': 2073, 'nursery': 2074, 'braavosian': 2075, 'coast': 2076, 'dimly': 2077, 'roaring': 2078, 'bellowing': 2079, 'sickbed': 2080, 'terror': 2081, 'bed': 2082, 'sickness': 2083, 'sickly': 2084, 'odor': 2085, 'money': 2086, 'wandered': 2087, 'qohor': 2088, 'volantis': 2089, 'lys': 2090, 'staying': 2091, 'allow': 2092, 'archons': 2093, 'merchant': 2094, 'princes': 2095, 'pleased': 2096, 'welcome': 2097, 'homes': 2098, 'tables': 2099, 'continued': 2100, 'lives': 2101, 'meaner': 2102, 'treasures': 2103, 'coin': 2104, 'gotten': 2105, 'crown': 2106, 'alleys': 2107, 'beggar': 2108, 'shook': 2109, 'silks': 2110, 'childhood': 2111, 'knock': 2112, 'entered': 2113, 'slavery': 2114, 'nonetheless': 2115, 'mouse': 2116, 'favorite': 2117, 'haired': 2118, 'wench': 2119, 'sixteen': 2120, 'chattered': 2121, 'constantly': 2122, 'bath': 2123, 'scented': 2124, 'fragrant': 2125, 'cotton': 2126, \"dany's\": 2127, 'tub': 2128, 'scalding': 2129, 'heat': 2130, 'besides': 2131, 'washed': 2132, 'combed': 2133, 'snags': 2134, 'scrubbed': 2135, 'lucky': 2136, 'wear': 2137, 'palace': 2138, 'rooms': 2139, 'fearless': 2140, 'rider': 2141, 'demon': 2142, 'archer': 2143, 'assumed': 2144, 'married': 2145, 'aegon': 2146, 'conqueror': 2147, 'bride': 2148, 'pure': 2149, 'kingsblood': 2150, 'mate': 2151, 'beasts': 2152, 'mingle': 2153, 'lesser': 2154, 'schemed': 2155, 'stranger': 2156, 'barbarian': 2157, 'toweled': 2158, 'dry': 2159, 'molten': 2160, 'spiceflower': 2161, 'dab': 2162, 'wrist': 2163, 'tips': 2164, 'legs': 2165, 'wisps': 2166, 'plum': 2167, 'gilded': 2168, 'sandals': 2169, 'tiara': 2170, 'bracelets': 2171, 'crusted': 2172, 'amethysts': 2173, 'wrists': 2174, 'torc': 2175, 'emblazoned': 2176, 'glyphs': 2177, 'breathlessly': 2178, 'image': 2179, 'silvered': 2180, 'provided': 2181, 'gooseflesh': 2182, 'pimpled': 2183, 'trailing': 2184, 'appeared': 2185, 'stand': 2186, 'turn': 2187, 'regal': 2188, 'stepping': 2189, 'archway': 2190, 'surprising': 2191, 'delicacy': 2192, 'garments': 2193, 'flame': 2194, 'rolls': 2195, 'fat': 2196, 'jiggled': 2197, 'walked': 2198, 'forked': 2199, 'shower': 2200, 'blessings': 2201, 'fortunate': 2202, 'showing': 2203, 'glimpse': 2204, 'crooked': 2205, 'enraptured': 2206, 'skinny': 2207, 'blond': 2208, 'fastened': 2209, 'brooch': 2210, 'severe': 2211, 'emphasized': 2212, 'lines': 2213, 'rested': 2214, 'lent': 2215, 'likes': 2216, 'eyesshe': 2217, 'doubtand': 2218, 'highborn': 2219, 'daughter': 2220, 'entrance': 2221, 'released': 2222, 'doubtfully': 2223, 'savages': 2224, 'queer': 2225, 'tastes': 2226, 'sheep': 2227, 'suggest': 2228, 'flashed': 2229, 'slightly': 2230, 'lack': 2231, 'caution': 2232, 'common': 2233, 'apologies': 2234, 'offense': 2235, 'clapped': 2236, 'bearers': 2237, 'pitch': 2238, 'elaborately': 2239, 'carrying': 2240, 'ornate': 2241, 'panes': 2242, 'hoisted': 2243, 'poles': 2244, 'stench': 2245, 'pallid': 2246, 'perfumes': 2247, 'sprawled': 2248, 'pillows': 2249, 'mind': 2250, 'whole': 2251, 'toyed': 2252, 'used': 2253, 'earnest': 2254, 'sweep': 2255, 'screamers': 2256, 'rightful': 2257, 'tyrell': 2258, 'redwyne': 2259, 'dornishmen': 2260, 'burn': 2261, 'avenge': 2262, 'smallfolk': 2263, 'anxiously': 2264, 'amiably': 2265, 'holdfasts': 2266, 'lift': 2267, 'secret': 2268, 'toasts': 2269, 'health': 2270, 'sew': 2271, 'return': 2272, 'shrug': 2273, 'knowing': 2274, 'doing': 2275, 'however': 2276, 'fitting': 2277, 'smallest': 2278, 'curtain': 2279, 'fighting': 2280, 'generous': 2281, 'barbarians': 2282, 'explain': 2283, 'million': 2284, 'promiseyet': 2285, 'chances': 2286, 'friendship': 2287, 'cheap': 2288, 'roughly': 2289, 'guards': 2290, 'copper': 2291, 'almond': 2292, 'hairless': 2293, 'spiked': 2294, 'cap': 2295, 'unsullied': 2296, 'coldly': 2297, 'growled': 2298, 'guardsman': 2299, 'gates': 2300, 'lurched': 2301, 'honey': 2302, 'important': 2303, 'chief': 2304, 'pay': 2305, 'darkly': 2306, 'tried': 2307, 'slowed': 2308, 'thrown': 2309, 'slave': 2310, 'offered': 2311, 'noted': 2312, 'ordinary': 2313, 'pinchfire': 2314, 'cinnamon': 2315, 'escorted': 2316, 'mosaic': 2317, 'depicted': 2318, 'arch': 2319, 'twining': 2320, 'stormborn': 2321, 'honorable': 2322, 'host': 2323, 'mopatis': 2324, 'stepped': 2325, 'pillared': 2326, 'courtyard': 2327, 'painted': 2328, 'shades': 2329, 'drifted': 2330, 'drooping': 2331, 'mustachios': 2332, 'braided': 2333, 'bells': 2334, 'bravos': 2335, 'sellswords': 2336, 'priest': 2337, 'fatter': 2338, 'hairy': 2339, 'port': 2340, 'ibben': 2341, 'isles': 2342, 'ebony': 2343, 'wonderand': 2344, 'realized': 2345}\n",
            "total words: 2346\n"
          ]
        }
      ],
      "source": [
        "tokenizer = get_tokenizer(VOCAB_SIZE=VOCAB_SIZE,OOV_TOKEN=OOV_TOKEN)\n",
        "\n",
        "# Define the total words. You add 1 for the index `0` which is just the padding token.\n",
        "total_words = len(tokenizer.word_index) + 1\n",
        "\n",
        "print(f'word index dictionary: {tokenizer.word_index}')\n",
        "print(f'total words: {total_words}')"
      ]
    },
    {
      "cell_type": "code",
      "source": [
        "def to_sequences(tokenizer, X_data):\n",
        "    # Generate and pad the training sequences\n",
        "    _sequences = tokenizer.texts_to_sequences(X_data)\n",
        "\n",
        "    return _sequences\n",
        "\n",
        "\n",
        "def seq_gen(sent_seq):\n",
        "    input_seq = []\n",
        "    for line in sent_seq:\n",
        "        for i in range(1, len(line)):\n",
        "            input_seq.append(line[:i+1])\n",
        "\n",
        "    return input_seq\n",
        "\n",
        "def to_padding(sequences, MAX_LENGTH, PADDING_TYPE, TRUNC_TYPE):\n",
        "    # Generate and pad the training sequences\n",
        "    _padded = pad_sequences(sequences,\n",
        "                            maxlen=MAX_LENGTH,\n",
        "                            padding=PADDING_TYPE,\n",
        "                            truncating=TRUNC_TYPE)\n",
        "\n",
        "    return _padded\n",
        "\n"
      ],
      "metadata": {
        "id": "W8rfaxBj6cCH"
      },
      "execution_count": 21,
      "outputs": []
    },
    {
      "cell_type": "code",
      "execution_count": 14,
      "metadata": {
        "id": "xA9-OqLx54lN"
      },
      "outputs": [],
      "source": [
        "sent_seq = to_sequences(tokenizer=tokenizer,X_data=corpus)"
      ]
    },
    {
      "cell_type": "code",
      "execution_count": 15,
      "metadata": {
        "id": "sif4yQTW54lN",
        "outputId": "263ad0d8-d475-4d93-c471-bdfcce29fa64",
        "colab": {
          "base_uri": "https://localhost:8080/"
        }
      },
      "outputs": [
        {
          "output_type": "execute_result",
          "data": {
            "text/plain": [
              "[[4, 708, 5, 135, 3, 153], [4, 1114, 5, 1115], [1116]]"
            ]
          },
          "metadata": {},
          "execution_count": 15
        }
      ],
      "source": [
        "sent_seq[:3]"
      ]
    },
    {
      "cell_type": "code",
      "execution_count": 16,
      "metadata": {
        "id": "8IgqDRWN54lO",
        "outputId": "ce40f6c3-6664-4387-e318-7d661a06e07e",
        "colab": {
          "base_uri": "https://localhost:8080/"
        }
      },
      "outputs": [
        {
          "output_type": "stream",
          "name": "stdout",
          "text": [
            "198\n"
          ]
        }
      ],
      "source": [
        "# Get the length of the longest line\n",
        "MAX_LENGTH = max([len(x) for x in sent_seq])\n",
        "print(MAX_LENGTH)"
      ]
    },
    {
      "cell_type": "code",
      "execution_count": 17,
      "metadata": {
        "id": "peJguwPL54lO",
        "outputId": "7ce1ada7-2ee8-4d13-8b56-dc34f1ab0bfb",
        "colab": {
          "base_uri": "https://localhost:8080/"
        }
      },
      "outputs": [
        {
          "output_type": "execute_result",
          "data": {
            "text/plain": [
              "300"
            ]
          },
          "metadata": {},
          "execution_count": 17
        }
      ],
      "source": [
        "len(sent_seq)"
      ]
    },
    {
      "cell_type": "code",
      "execution_count": 18,
      "metadata": {
        "id": "iApmkmyZ54lO"
      },
      "outputs": [],
      "source": [
        "input_seq = seq_gen(sent_seq)"
      ]
    },
    {
      "cell_type": "code",
      "execution_count": 19,
      "metadata": {
        "id": "SuzJT_cf54lP",
        "outputId": "315953e6-f710-41e4-e595-c20d9ccf1d6c",
        "colab": {
          "base_uri": "https://localhost:8080/"
        }
      },
      "outputs": [
        {
          "output_type": "execute_result",
          "data": {
            "text/plain": [
              "[[4, 708],\n",
              " [4, 708, 5],\n",
              " [4, 708, 5, 135],\n",
              " [4, 708, 5, 135, 3],\n",
              " [4, 708, 5, 135, 3, 153],\n",
              " [4, 1114],\n",
              " [4, 1114, 5],\n",
              " [4, 1114, 5, 1115],\n",
              " [70, 295],\n",
              " [70, 295, 709]]"
            ]
          },
          "metadata": {},
          "execution_count": 19
        }
      ],
      "source": [
        "input_seq[:10]"
      ]
    },
    {
      "cell_type": "code",
      "execution_count": 22,
      "metadata": {
        "id": "WRlSdV0b54lP"
      },
      "outputs": [],
      "source": [
        "padded_seq = to_padding(input_seq,\n",
        "                        MAX_LENGTH=MAX_LENGTH,\n",
        "                        PADDING_TYPE=PADDING_TYPE,\n",
        "                        TRUNC_TYPE=TRUNC_TYPE\n",
        "                        )"
      ]
    },
    {
      "cell_type": "code",
      "execution_count": 23,
      "metadata": {
        "id": "Am13FQw-54lP",
        "outputId": "3622d75e-f2d0-4785-8545-3d345792e690",
        "colab": {
          "base_uri": "https://localhost:8080/"
        }
      },
      "outputs": [
        {
          "output_type": "execute_result",
          "data": {
            "text/plain": [
              "(11928, 198)"
            ]
          },
          "metadata": {},
          "execution_count": 23
        }
      ],
      "source": [
        "padded_seq.shape"
      ]
    },
    {
      "cell_type": "code",
      "execution_count": 24,
      "metadata": {
        "id": "K6PLbXSU54lP",
        "outputId": "1d73e0f6-7f86-4b54-e8bd-fc211971f224",
        "colab": {
          "base_uri": "https://localhost:8080/"
        }
      },
      "outputs": [
        {
          "output_type": "execute_result",
          "data": {
            "text/plain": [
              "array([[   0,    0,    0, ...,    0,    4,  708],\n",
              "       [   0,    0,    0, ...,    4,  708,    5],\n",
              "       [   0,    0,    0, ...,  708,    5,  135],\n",
              "       ...,\n",
              "       [   0,    0,    0, ..., 1114,    5, 1115],\n",
              "       [   0,    0,    0, ...,    0,   70,  295],\n",
              "       [   0,    0,    0, ...,   70,  295,  709]], dtype=int32)"
            ]
          },
          "metadata": {},
          "execution_count": 24
        }
      ],
      "source": [
        "padded_seq[:10]"
      ]
    },
    {
      "cell_type": "markdown",
      "metadata": {
        "id": "sqXlYPFO54lP"
      },
      "source": [
        "### 5. Dataset Preparation"
      ]
    },
    {
      "cell_type": "code",
      "execution_count": 25,
      "metadata": {
        "id": "fbGDw3-J54lP"
      },
      "outputs": [],
      "source": [
        "# Create inputs and label by splitting the last token in the subphrases\n",
        "xs, labels = padded_seq[:, :-1], padded_seq[:, -1]"
      ]
    },
    {
      "cell_type": "code",
      "execution_count": 26,
      "metadata": {
        "id": "FL9ndC9s54lP"
      },
      "outputs": [],
      "source": [
        "# Convert the label into one-hot arrays\n",
        "ys = tf.keras.utils.to_categorical(labels, num_classes=total_words)"
      ]
    },
    {
      "cell_type": "markdown",
      "metadata": {
        "id": "cTOVT-a354lQ"
      },
      "source": [
        "### 6. LSTM +BIDIRECTIONAL"
      ]
    },
    {
      "cell_type": "markdown",
      "metadata": {
        "id": "uL7NdYl254lQ"
      },
      "source": [
        "##### Callbacks"
      ]
    },
    {
      "cell_type": "code",
      "execution_count": 27,
      "metadata": {
        "id": "R3IPsI3E54lQ"
      },
      "outputs": [],
      "source": [
        "early_stopping = tf.keras.callbacks.EarlyStopping(\n",
        "    monitor='loss',\n",
        "    min_delta=0.0001,\n",
        "    patience=20,\n",
        "    verbose=0,\n",
        "    mode='auto',\n",
        "    # baseline=None,\n",
        "    restore_best_weights=True,\n",
        "    # start_from_epoch=0\n",
        ")\n",
        "\n",
        "# Saving the best model and its weights to given path\n",
        "checkpoint_filepath = 'models/model_checkpoint_LSTM.h5'\n",
        "model_checkpoint_callback = tf.keras.callbacks.ModelCheckpoint(\n",
        "    filepath=checkpoint_filepath,\n",
        "    verbose=1,\n",
        "    # save_weights_only=True,\n",
        "    save_best_only=True,\n",
        "    monitor='loss',\n",
        "    mode='auto'\n",
        ")"
      ]
    },
    {
      "cell_type": "markdown",
      "metadata": {
        "id": "M794Epdo54lQ"
      },
      "source": [
        "##### Model Training"
      ]
    },
    {
      "cell_type": "code",
      "execution_count": 28,
      "metadata": {
        "id": "olRpFe0h54lQ"
      },
      "outputs": [],
      "source": [
        "import warnings\n",
        "warnings.filterwarnings('ignore')"
      ]
    },
    {
      "cell_type": "code",
      "execution_count": 29,
      "metadata": {
        "id": "d7de268854lQ",
        "outputId": "f8411a78-a4fc-4645-e574-91a225af5c59",
        "colab": {
          "base_uri": "https://localhost:8080/"
        }
      },
      "outputs": [
        {
          "output_type": "stream",
          "name": "stdout",
          "text": [
            "Model: \"sequential\"\n",
            "_________________________________________________________________\n",
            " Layer (type)                Output Shape              Param #   \n",
            "=================================================================\n",
            " embedding (Embedding)       (None, 197, 64)           150144    \n",
            "                                                                 \n",
            " bidirectional (Bidirection  (None, 100)               46000     \n",
            " al)                                                             \n",
            "                                                                 \n",
            " last_dense1 (Dense)         (None, 2346)              236946    \n",
            "                                                                 \n",
            "=================================================================\n",
            "Total params: 433090 (1.65 MB)\n",
            "Trainable params: 433090 (1.65 MB)\n",
            "Non-trainable params: 0 (0.00 Byte)\n",
            "_________________________________________________________________\n"
          ]
        }
      ],
      "source": [
        "# Build the model\n",
        "model = tf.keras.Sequential([\n",
        "    tf.keras.layers.Embedding(\n",
        "        total_words, EMBEDDING_DIM, input_length=MAX_LENGTH-1, name=\"embedding\"),\n",
        "    tf.keras.layers.Bidirectional(tf.keras.layers.LSTM(50, name=\"lstm1_50\", return_sequences=False)),\n",
        "\n",
        "    # tf.keras.layers.Flatten(),\n",
        "\n",
        "    # tf.keras.layers.Dense(1200, activation='relu', name=\"dense32\"),\n",
        "    # tf.keras.layers.BatchNormalization(name=\"batch1\"),\n",
        "    # tf.keras.layers.Dropout(0.5, name=\"dropout1\"),\n",
        "\n",
        "    # tf.keras.layers.Dense(800, activation='relu', name=\"dense16\"),\n",
        "    # tf.keras.layers.BatchNormalization(name=\"batch2\"),\n",
        "    # tf.keras.layers.Dropout(0.4, name=\"dropout2\"),\n",
        "\n",
        "\n",
        "    tf.keras.layers.Dense(total_words, activation='softmax', name=\"last_dense1\")\n",
        "])\n",
        "\n",
        "# Print the model summary\n",
        "model.summary()"
      ]
    },
    {
      "cell_type": "code",
      "execution_count": 31,
      "metadata": {
        "id": "vrqweaRd54lQ"
      },
      "outputs": [],
      "source": [
        "model.compile(optimizer=tf.keras.optimizers.Adam(learning_rate=0.01),\n",
        "              loss='categorical_crossentropy',\n",
        "              metrics=['accuracy'])"
      ]
    },
    {
      "cell_type": "code",
      "execution_count": 33,
      "metadata": {
        "id": "9fje3YAg54lR",
        "outputId": "c79610c7-72e4-4b52-bc02-eb15a599d663",
        "colab": {
          "base_uri": "https://localhost:8080/"
        }
      },
      "outputs": [
        {
          "output_type": "stream",
          "name": "stdout",
          "text": [
            "Epoch 1/300\n",
            "\n",
            "Epoch 1: loss improved from 5.14548 to 4.48849, saving model to models/model_checkpoint_LSTM.h5\n",
            "373/373 - 10s - loss: 4.4885 - accuracy: 0.1678 - 10s/epoch - 27ms/step\n",
            "Epoch 2/300\n",
            "\n",
            "Epoch 2: loss improved from 4.48849 to 3.81809, saving model to models/model_checkpoint_LSTM.h5\n",
            "373/373 - 8s - loss: 3.8181 - accuracy: 0.2242 - 8s/epoch - 21ms/step\n",
            "Epoch 3/300\n",
            "\n",
            "Epoch 3: loss improved from 3.81809 to 3.21024, saving model to models/model_checkpoint_LSTM.h5\n",
            "373/373 - 7s - loss: 3.2102 - accuracy: 0.3005 - 7s/epoch - 19ms/step\n",
            "Epoch 4/300\n",
            "\n",
            "Epoch 4: loss improved from 3.21024 to 2.71328, saving model to models/model_checkpoint_LSTM.h5\n",
            "373/373 - 8s - loss: 2.7133 - accuracy: 0.3872 - 8s/epoch - 21ms/step\n",
            "Epoch 5/300\n",
            "\n",
            "Epoch 5: loss improved from 2.71328 to 2.29761, saving model to models/model_checkpoint_LSTM.h5\n",
            "373/373 - 7s - loss: 2.2976 - accuracy: 0.4608 - 7s/epoch - 20ms/step\n",
            "Epoch 6/300\n",
            "\n",
            "Epoch 6: loss improved from 2.29761 to 1.97184, saving model to models/model_checkpoint_LSTM.h5\n",
            "373/373 - 7s - loss: 1.9718 - accuracy: 0.5313 - 7s/epoch - 18ms/step\n",
            "Epoch 7/300\n",
            "\n",
            "Epoch 7: loss improved from 1.97184 to 1.71212, saving model to models/model_checkpoint_LSTM.h5\n",
            "373/373 - 6s - loss: 1.7121 - accuracy: 0.5877 - 6s/epoch - 16ms/step\n",
            "Epoch 8/300\n",
            "\n",
            "Epoch 8: loss improved from 1.71212 to 1.49724, saving model to models/model_checkpoint_LSTM.h5\n",
            "373/373 - 7s - loss: 1.4972 - accuracy: 0.6319 - 7s/epoch - 18ms/step\n",
            "Epoch 9/300\n",
            "\n",
            "Epoch 9: loss improved from 1.49724 to 1.33146, saving model to models/model_checkpoint_LSTM.h5\n",
            "373/373 - 6s - loss: 1.3315 - accuracy: 0.6651 - 6s/epoch - 15ms/step\n",
            "Epoch 10/300\n",
            "\n",
            "Epoch 10: loss improved from 1.33146 to 1.17216, saving model to models/model_checkpoint_LSTM.h5\n",
            "373/373 - 6s - loss: 1.1722 - accuracy: 0.7046 - 6s/epoch - 16ms/step\n",
            "Epoch 11/300\n",
            "\n",
            "Epoch 11: loss improved from 1.17216 to 1.05751, saving model to models/model_checkpoint_LSTM.h5\n",
            "373/373 - 6s - loss: 1.0575 - accuracy: 0.7360 - 6s/epoch - 17ms/step\n",
            "Epoch 12/300\n",
            "\n",
            "Epoch 12: loss improved from 1.05751 to 0.96447, saving model to models/model_checkpoint_LSTM.h5\n",
            "373/373 - 6s - loss: 0.9645 - accuracy: 0.7539 - 6s/epoch - 16ms/step\n",
            "Epoch 13/300\n",
            "\n",
            "Epoch 13: loss improved from 0.96447 to 0.92621, saving model to models/model_checkpoint_LSTM.h5\n",
            "373/373 - 6s - loss: 0.9262 - accuracy: 0.7638 - 6s/epoch - 17ms/step\n",
            "Epoch 14/300\n",
            "\n",
            "Epoch 14: loss improved from 0.92621 to 0.86129, saving model to models/model_checkpoint_LSTM.h5\n",
            "373/373 - 6s - loss: 0.8613 - accuracy: 0.7767 - 6s/epoch - 15ms/step\n",
            "Epoch 15/300\n",
            "\n",
            "Epoch 15: loss improved from 0.86129 to 0.79534, saving model to models/model_checkpoint_LSTM.h5\n",
            "373/373 - 7s - loss: 0.7953 - accuracy: 0.7961 - 7s/epoch - 18ms/step\n",
            "Epoch 16/300\n",
            "\n",
            "Epoch 16: loss improved from 0.79534 to 0.73943, saving model to models/model_checkpoint_LSTM.h5\n",
            "373/373 - 5s - loss: 0.7394 - accuracy: 0.8055 - 5s/epoch - 15ms/step\n",
            "Epoch 17/300\n",
            "\n",
            "Epoch 17: loss improved from 0.73943 to 0.70085, saving model to models/model_checkpoint_LSTM.h5\n",
            "373/373 - 7s - loss: 0.7008 - accuracy: 0.8160 - 7s/epoch - 18ms/step\n",
            "Epoch 18/300\n",
            "\n",
            "Epoch 18: loss improved from 0.70085 to 0.69535, saving model to models/model_checkpoint_LSTM.h5\n",
            "373/373 - 6s - loss: 0.6954 - accuracy: 0.8161 - 6s/epoch - 15ms/step\n",
            "Epoch 19/300\n",
            "\n",
            "Epoch 19: loss improved from 0.69535 to 0.66890, saving model to models/model_checkpoint_LSTM.h5\n",
            "373/373 - 6s - loss: 0.6689 - accuracy: 0.8205 - 6s/epoch - 17ms/step\n",
            "Epoch 20/300\n",
            "\n",
            "Epoch 20: loss improved from 0.66890 to 0.64204, saving model to models/model_checkpoint_LSTM.h5\n",
            "373/373 - 6s - loss: 0.6420 - accuracy: 0.8299 - 6s/epoch - 17ms/step\n",
            "Epoch 21/300\n",
            "\n",
            "Epoch 21: loss improved from 0.64204 to 0.61660, saving model to models/model_checkpoint_LSTM.h5\n",
            "373/373 - 5s - loss: 0.6166 - accuracy: 0.8364 - 5s/epoch - 15ms/step\n",
            "Epoch 22/300\n",
            "\n",
            "Epoch 22: loss did not improve from 0.61660\n",
            "373/373 - 7s - loss: 0.6320 - accuracy: 0.8268 - 7s/epoch - 18ms/step\n",
            "Epoch 23/300\n",
            "\n",
            "Epoch 23: loss did not improve from 0.61660\n",
            "373/373 - 5s - loss: 0.6493 - accuracy: 0.8161 - 5s/epoch - 14ms/step\n",
            "Epoch 24/300\n",
            "\n",
            "Epoch 24: loss did not improve from 0.61660\n",
            "373/373 - 7s - loss: 0.6812 - accuracy: 0.8080 - 7s/epoch - 18ms/step\n",
            "Epoch 25/300\n",
            "\n",
            "Epoch 25: loss did not improve from 0.61660\n",
            "373/373 - 5s - loss: 0.6332 - accuracy: 0.8247 - 5s/epoch - 15ms/step\n",
            "Epoch 26/300\n",
            "\n",
            "Epoch 26: loss improved from 0.61660 to 0.56278, saving model to models/model_checkpoint_LSTM.h5\n",
            "373/373 - 7s - loss: 0.5628 - accuracy: 0.8415 - 7s/epoch - 19ms/step\n",
            "Epoch 27/300\n",
            "\n",
            "Epoch 27: loss improved from 0.56278 to 0.50568, saving model to models/model_checkpoint_LSTM.h5\n",
            "373/373 - 5s - loss: 0.5057 - accuracy: 0.8628 - 5s/epoch - 15ms/step\n",
            "Epoch 28/300\n",
            "\n",
            "Epoch 28: loss did not improve from 0.50568\n",
            "373/373 - 6s - loss: 0.5292 - accuracy: 0.8531 - 6s/epoch - 16ms/step\n",
            "Epoch 29/300\n",
            "\n",
            "Epoch 29: loss improved from 0.50568 to 0.49239, saving model to models/model_checkpoint_LSTM.h5\n",
            "373/373 - 6s - loss: 0.4924 - accuracy: 0.8625 - 6s/epoch - 16ms/step\n",
            "Epoch 30/300\n",
            "\n",
            "Epoch 30: loss did not improve from 0.49239\n",
            "373/373 - 5s - loss: 0.5326 - accuracy: 0.8505 - 5s/epoch - 14ms/step\n",
            "Epoch 31/300\n",
            "\n",
            "Epoch 31: loss did not improve from 0.49239\n",
            "373/373 - 6s - loss: 0.6134 - accuracy: 0.8234 - 6s/epoch - 17ms/step\n",
            "Epoch 32/300\n",
            "\n",
            "Epoch 32: loss did not improve from 0.49239\n",
            "373/373 - 6s - loss: 0.6880 - accuracy: 0.7991 - 6s/epoch - 15ms/step\n",
            "Epoch 33/300\n",
            "\n",
            "Epoch 33: loss did not improve from 0.49239\n",
            "373/373 - 6s - loss: 0.6729 - accuracy: 0.8054 - 6s/epoch - 17ms/step\n",
            "Epoch 34/300\n",
            "\n",
            "Epoch 34: loss did not improve from 0.49239\n",
            "373/373 - 5s - loss: 0.5717 - accuracy: 0.8391 - 5s/epoch - 14ms/step\n",
            "Epoch 35/300\n",
            "\n",
            "Epoch 35: loss did not improve from 0.49239\n",
            "373/373 - 7s - loss: 0.5004 - accuracy: 0.8581 - 7s/epoch - 18ms/step\n",
            "Epoch 36/300\n",
            "\n",
            "Epoch 36: loss improved from 0.49239 to 0.47965, saving model to models/model_checkpoint_LSTM.h5\n",
            "373/373 - 5s - loss: 0.4797 - accuracy: 0.8639 - 5s/epoch - 15ms/step\n",
            "Epoch 37/300\n",
            "\n",
            "Epoch 37: loss did not improve from 0.47965\n",
            "373/373 - 5s - loss: 0.4871 - accuracy: 0.8588 - 5s/epoch - 14ms/step\n",
            "Epoch 38/300\n",
            "\n",
            "Epoch 38: loss did not improve from 0.47965\n",
            "373/373 - 6s - loss: 0.4800 - accuracy: 0.8607 - 6s/epoch - 17ms/step\n",
            "Epoch 39/300\n",
            "\n",
            "Epoch 39: loss improved from 0.47965 to 0.47407, saving model to models/model_checkpoint_LSTM.h5\n",
            "373/373 - 5s - loss: 0.4741 - accuracy: 0.8627 - 5s/epoch - 14ms/step\n",
            "Epoch 40/300\n",
            "\n",
            "Epoch 40: loss did not improve from 0.47407\n",
            "373/373 - 6s - loss: 0.5103 - accuracy: 0.8539 - 6s/epoch - 17ms/step\n",
            "Epoch 41/300\n",
            "\n",
            "Epoch 41: loss did not improve from 0.47407\n",
            "373/373 - 5s - loss: 0.5557 - accuracy: 0.8369 - 5s/epoch - 14ms/step\n",
            "Epoch 42/300\n",
            "\n",
            "Epoch 42: loss did not improve from 0.47407\n",
            "373/373 - 6s - loss: 0.5898 - accuracy: 0.8280 - 6s/epoch - 17ms/step\n",
            "Epoch 43/300\n",
            "\n",
            "Epoch 43: loss did not improve from 0.47407\n",
            "373/373 - 6s - loss: 0.5431 - accuracy: 0.8451 - 6s/epoch - 15ms/step\n",
            "Epoch 44/300\n",
            "\n",
            "Epoch 44: loss did not improve from 0.47407\n",
            "373/373 - 5s - loss: 0.5340 - accuracy: 0.8446 - 5s/epoch - 14ms/step\n",
            "Epoch 45/300\n",
            "\n",
            "Epoch 45: loss did not improve from 0.47407\n",
            "373/373 - 6s - loss: 0.4975 - accuracy: 0.8549 - 6s/epoch - 17ms/step\n",
            "Epoch 46/300\n",
            "\n",
            "Epoch 46: loss improved from 0.47407 to 0.47014, saving model to models/model_checkpoint_LSTM.h5\n",
            "373/373 - 6s - loss: 0.4701 - accuracy: 0.8649 - 6s/epoch - 15ms/step\n",
            "Epoch 47/300\n",
            "\n",
            "Epoch 47: loss improved from 0.47014 to 0.46625, saving model to models/model_checkpoint_LSTM.h5\n",
            "373/373 - 6s - loss: 0.4662 - accuracy: 0.8624 - 6s/epoch - 17ms/step\n",
            "Epoch 48/300\n",
            "\n",
            "Epoch 48: loss did not improve from 0.46625\n",
            "373/373 - 5s - loss: 0.5013 - accuracy: 0.8571 - 5s/epoch - 14ms/step\n",
            "Epoch 49/300\n",
            "\n",
            "Epoch 49: loss did not improve from 0.46625\n",
            "373/373 - 6s - loss: 0.5773 - accuracy: 0.8322 - 6s/epoch - 17ms/step\n",
            "Epoch 50/300\n",
            "\n",
            "Epoch 50: loss did not improve from 0.46625\n",
            "373/373 - 6s - loss: 0.5947 - accuracy: 0.8232 - 6s/epoch - 15ms/step\n",
            "Epoch 51/300\n",
            "\n",
            "Epoch 51: loss did not improve from 0.46625\n",
            "373/373 - 5s - loss: 0.5579 - accuracy: 0.8379 - 5s/epoch - 14ms/step\n",
            "Epoch 52/300\n",
            "\n",
            "Epoch 52: loss did not improve from 0.46625\n",
            "373/373 - 7s - loss: 0.4905 - accuracy: 0.8553 - 7s/epoch - 18ms/step\n",
            "Epoch 53/300\n",
            "\n",
            "Epoch 53: loss did not improve from 0.46625\n",
            "373/373 - 5s - loss: 0.4770 - accuracy: 0.8597 - 5s/epoch - 14ms/step\n",
            "Epoch 54/300\n",
            "\n",
            "Epoch 54: loss did not improve from 0.46625\n",
            "373/373 - 6s - loss: 0.5150 - accuracy: 0.8483 - 6s/epoch - 17ms/step\n",
            "Epoch 55/300\n",
            "\n",
            "Epoch 55: loss did not improve from 0.46625\n",
            "373/373 - 6s - loss: 0.5266 - accuracy: 0.8466 - 6s/epoch - 15ms/step\n",
            "Epoch 56/300\n",
            "\n",
            "Epoch 56: loss did not improve from 0.46625\n",
            "373/373 - 6s - loss: 0.5304 - accuracy: 0.8457 - 6s/epoch - 16ms/step\n",
            "Epoch 57/300\n",
            "\n",
            "Epoch 57: loss did not improve from 0.46625\n",
            "373/373 - 6s - loss: 0.5181 - accuracy: 0.8483 - 6s/epoch - 15ms/step\n",
            "Epoch 58/300\n",
            "\n",
            "Epoch 58: loss did not improve from 0.46625\n",
            "373/373 - 5s - loss: 0.5125 - accuracy: 0.8492 - 5s/epoch - 14ms/step\n",
            "Epoch 59/300\n",
            "\n",
            "Epoch 59: loss did not improve from 0.46625\n",
            "373/373 - 6s - loss: 0.4666 - accuracy: 0.8633 - 6s/epoch - 17ms/step\n",
            "Epoch 60/300\n",
            "\n",
            "Epoch 60: loss improved from 0.46625 to 0.43995, saving model to models/model_checkpoint_LSTM.h5\n",
            "373/373 - 6s - loss: 0.4400 - accuracy: 0.8696 - 6s/epoch - 15ms/step\n",
            "Epoch 61/300\n",
            "\n",
            "Epoch 61: loss improved from 0.43995 to 0.40477, saving model to models/model_checkpoint_LSTM.h5\n",
            "373/373 - 6s - loss: 0.4048 - accuracy: 0.8833 - 6s/epoch - 17ms/step\n",
            "Epoch 62/300\n",
            "\n",
            "Epoch 62: loss did not improve from 0.40477\n",
            "373/373 - 5s - loss: 0.4617 - accuracy: 0.8630 - 5s/epoch - 14ms/step\n",
            "Epoch 63/300\n",
            "\n",
            "Epoch 63: loss did not improve from 0.40477\n",
            "373/373 - 6s - loss: 0.5091 - accuracy: 0.8501 - 6s/epoch - 16ms/step\n",
            "Epoch 64/300\n",
            "\n",
            "Epoch 64: loss did not improve from 0.40477\n",
            "373/373 - 6s - loss: 0.5102 - accuracy: 0.8527 - 6s/epoch - 16ms/step\n",
            "Epoch 65/300\n",
            "\n",
            "Epoch 65: loss did not improve from 0.40477\n",
            "373/373 - 5s - loss: 0.6077 - accuracy: 0.8260 - 5s/epoch - 15ms/step\n",
            "Epoch 66/300\n",
            "\n",
            "Epoch 66: loss did not improve from 0.40477\n",
            "373/373 - 7s - loss: 0.6982 - accuracy: 0.7989 - 7s/epoch - 19ms/step\n",
            "Epoch 67/300\n",
            "\n",
            "Epoch 67: loss did not improve from 0.40477\n",
            "373/373 - 5s - loss: 0.6461 - accuracy: 0.8144 - 5s/epoch - 15ms/step\n",
            "Epoch 68/300\n",
            "\n",
            "Epoch 68: loss did not improve from 0.40477\n",
            "373/373 - 6s - loss: 0.5380 - accuracy: 0.8410 - 6s/epoch - 17ms/step\n",
            "Epoch 69/300\n",
            "\n",
            "Epoch 69: loss did not improve from 0.40477\n",
            "373/373 - 5s - loss: 0.4761 - accuracy: 0.8568 - 5s/epoch - 14ms/step\n",
            "Epoch 70/300\n",
            "\n",
            "Epoch 70: loss did not improve from 0.40477\n",
            "373/373 - 6s - loss: 0.4305 - accuracy: 0.8711 - 6s/epoch - 17ms/step\n",
            "Epoch 71/300\n",
            "\n",
            "Epoch 71: loss did not improve from 0.40477\n",
            "373/373 - 5s - loss: 0.4125 - accuracy: 0.8799 - 5s/epoch - 14ms/step\n",
            "Epoch 72/300\n",
            "\n",
            "Epoch 72: loss improved from 0.40477 to 0.39967, saving model to models/model_checkpoint_LSTM.h5\n",
            "373/373 - 6s - loss: 0.3997 - accuracy: 0.8840 - 6s/epoch - 15ms/step\n",
            "Epoch 73/300\n",
            "\n",
            "Epoch 73: loss did not improve from 0.39967\n",
            "373/373 - 6s - loss: 0.5278 - accuracy: 0.8441 - 6s/epoch - 16ms/step\n",
            "Epoch 74/300\n",
            "\n",
            "Epoch 74: loss did not improve from 0.39967\n",
            "373/373 - 5s - loss: 0.6803 - accuracy: 0.8052 - 5s/epoch - 14ms/step\n",
            "Epoch 75/300\n",
            "\n",
            "Epoch 75: loss did not improve from 0.39967\n",
            "373/373 - 6s - loss: 0.6967 - accuracy: 0.7994 - 6s/epoch - 17ms/step\n",
            "Epoch 76/300\n",
            "\n",
            "Epoch 76: loss did not improve from 0.39967\n",
            "373/373 - 5s - loss: 0.6351 - accuracy: 0.8135 - 5s/epoch - 14ms/step\n",
            "Epoch 77/300\n",
            "\n",
            "Epoch 77: loss did not improve from 0.39967\n",
            "373/373 - 6s - loss: 0.5846 - accuracy: 0.8298 - 6s/epoch - 16ms/step\n",
            "Epoch 78/300\n",
            "\n",
            "Epoch 78: loss did not improve from 0.39967\n",
            "373/373 - 6s - loss: 0.4950 - accuracy: 0.8554 - 6s/epoch - 15ms/step\n",
            "Epoch 79/300\n",
            "\n",
            "Epoch 79: loss did not improve from 0.39967\n",
            "373/373 - 5s - loss: 0.4553 - accuracy: 0.8670 - 5s/epoch - 14ms/step\n",
            "Epoch 80/300\n",
            "\n",
            "Epoch 80: loss did not improve from 0.39967\n",
            "373/373 - 6s - loss: 0.4503 - accuracy: 0.8664 - 6s/epoch - 17ms/step\n",
            "Epoch 81/300\n",
            "\n",
            "Epoch 81: loss did not improve from 0.39967\n",
            "373/373 - 5s - loss: 0.4459 - accuracy: 0.8665 - 5s/epoch - 14ms/step\n",
            "Epoch 82/300\n",
            "\n",
            "Epoch 82: loss did not improve from 0.39967\n",
            "373/373 - 6s - loss: 0.4270 - accuracy: 0.8737 - 6s/epoch - 17ms/step\n",
            "Epoch 83/300\n",
            "\n",
            "Epoch 83: loss did not improve from 0.39967\n",
            "373/373 - 5s - loss: 0.4394 - accuracy: 0.8698 - 5s/epoch - 14ms/step\n",
            "Epoch 84/300\n",
            "\n",
            "Epoch 84: loss did not improve from 0.39967\n",
            "373/373 - 6s - loss: 0.4751 - accuracy: 0.8594 - 6s/epoch - 16ms/step\n",
            "Epoch 85/300\n",
            "\n",
            "Epoch 85: loss did not improve from 0.39967\n",
            "373/373 - 6s - loss: 0.5645 - accuracy: 0.8383 - 6s/epoch - 15ms/step\n",
            "Epoch 86/300\n",
            "\n",
            "Epoch 86: loss did not improve from 0.39967\n",
            "373/373 - 5s - loss: 0.6267 - accuracy: 0.8180 - 5s/epoch - 14ms/step\n",
            "Epoch 87/300\n",
            "\n",
            "Epoch 87: loss did not improve from 0.39967\n",
            "373/373 - 6s - loss: 0.6583 - accuracy: 0.8090 - 6s/epoch - 17ms/step\n",
            "Epoch 88/300\n",
            "\n",
            "Epoch 88: loss did not improve from 0.39967\n",
            "373/373 - 5s - loss: 0.6759 - accuracy: 0.8033 - 5s/epoch - 14ms/step\n",
            "Epoch 89/300\n",
            "\n",
            "Epoch 89: loss did not improve from 0.39967\n",
            "373/373 - 6s - loss: 0.6396 - accuracy: 0.8138 - 6s/epoch - 17ms/step\n",
            "Epoch 90/300\n",
            "\n",
            "Epoch 90: loss did not improve from 0.39967\n",
            "373/373 - 5s - loss: 0.5841 - accuracy: 0.8288 - 5s/epoch - 15ms/step\n",
            "Epoch 91/300\n",
            "\n",
            "Epoch 91: loss did not improve from 0.39967\n",
            "373/373 - 6s - loss: 0.5026 - accuracy: 0.8523 - 6s/epoch - 15ms/step\n",
            "Epoch 92/300\n",
            "\n",
            "Epoch 92: loss did not improve from 0.39967\n",
            "373/373 - 6s - loss: 0.4412 - accuracy: 0.8681 - 6s/epoch - 16ms/step\n"
          ]
        }
      ],
      "source": [
        "import warnings\n",
        "warnings.filterwarnings('ignore')\n",
        "history = model.fit(xs,ys,\n",
        "          epochs=300,\n",
        "          verbose=2,\n",
        "          callbacks=[early_stopping,\n",
        "                     model_checkpoint_callback])"
      ]
    },
    {
      "cell_type": "code",
      "execution_count": 34,
      "metadata": {
        "id": "HKBJzKeC54lR",
        "outputId": "6a69dd7f-e748-42d4-aec4-1fdf62d4bd88",
        "colab": {
          "base_uri": "https://localhost:8080/"
        }
      },
      "outputs": [
        {
          "output_type": "execute_result",
          "data": {
            "text/plain": [
              "dict_keys(['loss', 'accuracy'])"
            ]
          },
          "metadata": {},
          "execution_count": 34
        }
      ],
      "source": [
        "history.history.keys()"
      ]
    },
    {
      "cell_type": "code",
      "execution_count": 35,
      "metadata": {
        "id": "7_vTJN6u54lR",
        "outputId": "c2a84342-937b-49bf-fbf1-abef4d5a3528",
        "colab": {
          "base_uri": "https://localhost:8080/",
          "height": 383
        }
      },
      "outputs": [
        {
          "output_type": "display_data",
          "data": {
            "text/plain": [
              "<Figure size 1500x500 with 2 Axes>"
            ],
            "image/png": "[encoded data removed]"
          },
          "metadata": {}
        }
      ],
      "source": [
        "fig, ax = plt.subplots(1, 2, figsize=(15, 5))\n",
        "\n",
        "ax[0].plot(history.history['loss'], label=\"train_loss\")\n",
        "ax[0].set_title(\"SCE loss function\")\n",
        "ax[0].legend()\n",
        "\n",
        "ax[1].plot(history.history['accuracy'], label=\"train_acc\")\n",
        "ax[1].set_title(\"Accuracy Metric function\")\n",
        "ax[1].legend()\n",
        "plt.tight_layout()\n",
        "plt.show()"
      ]
    },
    {
      "cell_type": "markdown",
      "metadata": {
        "id": "ql2oG8gR54lR"
      },
      "source": [
        "### Text Generation"
      ]
    },
    {
      "cell_type": "code",
      "execution_count": 37,
      "metadata": {
        "id": "-stEvC6E54lR",
        "outputId": "482d4e77-2eb8-48d2-d64a-6575ddb98792",
        "colab": {
          "base_uri": "https://localhost:8080/"
        }
      },
      "outputs": [
        {
          "output_type": "stream",
          "name": "stdout",
          "text": [
            "1/1 [==============================] - 0s 85ms/step\n",
            "1/1 [==============================] - 0s 118ms/step\n",
            "1/1 [==============================] - 0s 78ms/step\n",
            "1/1 [==============================] - 0s 91ms/step\n",
            "1/1 [==============================] - 0s 33ms/step\n",
            "1/1 [==============================] - 0s 44ms/step\n",
            "1/1 [==============================] - 0s 44ms/step\n",
            "1/1 [==============================] - 0s 40ms/step\n",
            "1/1 [==============================] - 0s 41ms/step\n",
            "1/1 [==============================] - 0s 38ms/step\n",
            "do the dead frighten any pale ringmail dismounted rise wet one from tatters and\n"
          ]
        }
      ],
      "source": [
        "# Define seed text\n",
        "seed_text = \"do the dead frighten\"\n",
        "\n",
        "# Define total words to predict\n",
        "next_words = 10\n",
        "\n",
        "# Loop until desired length is reached\n",
        "for _ in range(next_words):\n",
        "\n",
        "\n",
        "  token_list = tokenizer.texts_to_sequences([seed_text])[0]\n",
        "  token_list = pad_sequences([token_list], maxlen=MAX_LENGTH-1, padding='pre')\n",
        "\n",
        "# Feed to the model and get the probabilities for each index\n",
        "  probabilities = model.predict(token_list)\n",
        "\n",
        "  # Pick a random number from [1,2,3]\n",
        "  choice = np.random.choice([1, 2, 3])\n",
        "\n",
        "  # Sort the probabilities in ascending order\n",
        "  # and get the random choice from the end of the array\n",
        "  predicted = np.argsort(probabilities)[0][-choice]\n",
        "\n",
        "# Ignore if index is 0 because that is just the padding.\n",
        "  if predicted != 0:\n",
        "\n",
        "\t# Look up the word associated with the index.\n",
        "\t  output_word = tokenizer.index_word[predicted]\n",
        "\n",
        "\t# Combine with the seed text\n",
        "\t  seed_text += \" \" + output_word\n",
        "\n",
        "# Print the result\n",
        "print(seed_text)"
      ]
    },
    {
      "cell_type": "code",
      "source": [],
      "metadata": {
        "id": "aeVrhnjK_f6m"
      },
      "execution_count": null,
      "outputs": []
    }
  ],
  "metadata": {
    "kernelspec": {
      "display_name": "Python 3",
      "name": "python3"
    },
    "language_info": {
      "codemirror_mode": {
        "name": "ipython",
        "version": 3
      },
      "file_extension": ".py",
      "mimetype": "text/x-python",
      "name": "python",
      "nbconvert_exporter": "python",
      "pygments_lexer": "ipython3",
      "version": "3.11.5"
    },
    "colab": {
      "provenance": [],
      "gpuType": "T4"
    },
    "accelerator": "GPU"
  },
  "nbformat": 4,
  "nbformat_minor": 0
}